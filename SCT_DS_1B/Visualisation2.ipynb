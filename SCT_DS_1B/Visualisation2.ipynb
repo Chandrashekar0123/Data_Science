{
  "nbformat": 4,
  "nbformat_minor": 0,
  "metadata": {
    "colab": {
      "provenance": []
    },
    "kernelspec": {
      "name": "python3",
      "display_name": "Python 3"
    },
    "language_info": {
      "name": "python"
    }
  },
  "cells": [
    {
      "cell_type": "markdown",
      "source": [
        "##create a bar chat or histogram to visualise the distribution of categorical or contiguous variablessuch as distribution of age and gender in th e population"
      ],
      "metadata": {
        "id": "31m4wkN5rlXo"
      }
    },
    {
      "cell_type": "markdown",
      "source": [
        "\n",
        "The dataset contains total population data for various countries from 1960 to 2023, including attributes like Country Name, Country Code, and yearly population figures. While useful for analyzing population trends, it lacks demographic details like age and gender. To visualize such distributions, a bar chart can represent gender proportions, while a histogram can show the spread of population across different age groups. Additional demographic data would be needed for these analyses."
      ],
      "metadata": {
        "id": "EGrgcjnhrj-C"
      }
    },
    {
      "cell_type": "markdown",
      "source": [
        "#Import the necessary Libraries"
      ],
      "metadata": {
        "id": "deQbCrI7rxtl"
      }
    },
    {
      "cell_type": "code",
      "execution_count": null,
      "metadata": {
        "id": "Fx8NDfc1hC9M"
      },
      "outputs": [],
      "source": [
        " import numpy as np\n",
        " import pandas as pd\n",
        " import matplotlib.pyplot as plt\n",
        " import seaborn as sns"
      ]
    },
    {
      "cell_type": "markdown",
      "source": [
        "#Load the data"
      ],
      "metadata": {
        "id": "B7Vk-xGwr4S1"
      }
    },
    {
      "cell_type": "code",
      "source": [
        "data = pd.read_csv('/content/API_SP.POP.TOTL_DS2_en_csv_v2_87.csv', skiprows=4)"
      ],
      "metadata": {
        "id": "x2SMcSZVYS-4"
      },
      "execution_count": null,
      "outputs": []
    },
    {
      "cell_type": "markdown",
      "source": [
        "#Read the data"
      ],
      "metadata": {
        "id": "SES-YApSr9bN"
      }
    },
    {
      "cell_type": "code",
      "source": [
        "data"
      ],
      "metadata": {
        "colab": {
          "base_uri": "https://localhost:8080/",
          "height": 687
        },
        "id": "H5R9dOnGYgX8",
        "outputId": "619ceb15-f796-4424-b863-a0a3882e5ff1"
      },
      "execution_count": null,
      "outputs": [
        {
          "output_type": "execute_result",
          "data": {
            "text/plain": [
              "                    Country Name Country Code     Indicator Name  \\\n",
              "0                          Aruba          ABW  Population, total   \n",
              "1    Africa Eastern and Southern          AFE  Population, total   \n",
              "2                    Afghanistan          AFG  Population, total   \n",
              "3     Africa Western and Central          AFW  Population, total   \n",
              "4                         Angola          AGO  Population, total   \n",
              "..                           ...          ...                ...   \n",
              "261                       Kosovo          XKX  Population, total   \n",
              "262                  Yemen, Rep.          YEM  Population, total   \n",
              "263                 South Africa          ZAF  Population, total   \n",
              "264                       Zambia          ZMB  Population, total   \n",
              "265                     Zimbabwe          ZWE  Population, total   \n",
              "\n",
              "    Indicator Code         1960         1961         1962         1963  \\\n",
              "0      SP.POP.TOTL      54922.0      55578.0      56320.0      57002.0   \n",
              "1      SP.POP.TOTL  130072080.0  133534923.0  137171659.0  140945536.0   \n",
              "2      SP.POP.TOTL    9035043.0    9214083.0    9404406.0    9604487.0   \n",
              "3      SP.POP.TOTL   97630925.0   99706674.0  101854756.0  104089175.0   \n",
              "4      SP.POP.TOTL    5231654.0    5301583.0    5354310.0    5408320.0   \n",
              "..             ...          ...          ...          ...          ...   \n",
              "261    SP.POP.TOTL     984846.0    1011421.0    1036950.0    1062737.0   \n",
              "262    SP.POP.TOTL    5532301.0    5655232.0    5782221.0    5911135.0   \n",
              "263    SP.POP.TOTL   16440172.0   16908035.0   17418522.0   17954564.0   \n",
              "264    SP.POP.TOTL    3153729.0    3254086.0    3358099.0    3465907.0   \n",
              "265    SP.POP.TOTL    3809389.0    3930401.0    4055959.0    4185877.0   \n",
              "\n",
              "            1964         1965  ...         2015         2016         2017  \\\n",
              "0        57619.0      58190.0  ...     107906.0     108727.0     108735.0   \n",
              "1    144904094.0  149033472.0  ...  607123269.0  623369401.0  640058741.0   \n",
              "2      9814318.0   10036008.0  ...   33831764.0   34700612.0   35688935.0   \n",
              "3    106388440.0  108772632.0  ...  418127845.0  429454743.0  440882906.0   \n",
              "4      5464187.0    5521981.0  ...   28157798.0   29183070.0   30234839.0   \n",
              "..           ...          ...  ...          ...          ...          ...   \n",
              "261    1090270.0    1120168.0  ...    1788274.0    1777568.0    1791019.0   \n",
              "262    6048006.0    6195593.0  ...   31159379.0   32109010.0   33090921.0   \n",
              "263   18511361.0   19089380.0  ...   56723537.0   57259551.0   57635162.0   \n",
              "264    3577017.0    3692086.0  ...   16399089.0   16914423.0   17441320.0   \n",
              "265    4320006.0    4458462.0  ...   14399013.0   14600294.0   14812482.0   \n",
              "\n",
              "            2018         2019         2020         2021         2022  \\\n",
              "0       108908.0     109203.0     108587.0     107700.0     107310.0   \n",
              "1    657801085.0  675950189.0  694446100.0  713090928.0  731821393.0   \n",
              "2     36743039.0   37856121.0   39068979.0   40000412.0   40578842.0   \n",
              "3    452195915.0  463365429.0  474569351.0  485920997.0  497387180.0   \n",
              "4     31297155.0   32375632.0   33451132.0   34532429.0   35635029.0   \n",
              "..           ...          ...          ...          ...          ...   \n",
              "261    1797086.0    1788891.0    1790152.0    1786080.0    1768096.0   \n",
              "262   34085182.0   35111408.0   36134863.0   37140230.0   38222876.0   \n",
              "263   58613001.0   59587885.0   60562381.0   61502603.0   62378410.0   \n",
              "264   17973569.0   18513839.0   19059395.0   19603607.0   20152938.0   \n",
              "265   15034452.0   15271368.0   15526888.0   15797210.0   16069056.0   \n",
              "\n",
              "            2023  Unnamed: 68  \n",
              "0       107359.0          NaN  \n",
              "1    750503764.0          NaN  \n",
              "2     41454761.0          NaN  \n",
              "3    509398589.0          NaN  \n",
              "4     36749906.0          NaN  \n",
              "..           ...          ...  \n",
              "261    1756366.0          NaN  \n",
              "262   39390799.0          NaN  \n",
              "263   63212384.0          NaN  \n",
              "264   20723965.0          NaN  \n",
              "265   16340822.0          NaN  \n",
              "\n",
              "[266 rows x 69 columns]"
            ],
            "text/html": [
              "\n",
              "  <div id=\"df-6a7265bd-6618-4861-adf5-3b7670287ca5\" class=\"colab-df-container\">\n",
              "    <div>\n",
              "<style scoped>\n",
              "    .dataframe tbody tr th:only-of-type {\n",
              "        vertical-align: middle;\n",
              "    }\n",
              "\n",
              "    .dataframe tbody tr th {\n",
              "        vertical-align: top;\n",
              "    }\n",
              "\n",
              "    .dataframe thead th {\n",
              "        text-align: right;\n",
              "    }\n",
              "</style>\n",
              "<table border=\"1\" class=\"dataframe\">\n",
              "  <thead>\n",
              "    <tr style=\"text-align: right;\">\n",
              "      <th></th>\n",
              "      <th>Country Name</th>\n",
              "      <th>Country Code</th>\n",
              "      <th>Indicator Name</th>\n",
              "      <th>Indicator Code</th>\n",
              "      <th>1960</th>\n",
              "      <th>1961</th>\n",
              "      <th>1962</th>\n",
              "      <th>1963</th>\n",
              "      <th>1964</th>\n",
              "      <th>1965</th>\n",
              "      <th>...</th>\n",
              "      <th>2015</th>\n",
              "      <th>2016</th>\n",
              "      <th>2017</th>\n",
              "      <th>2018</th>\n",
              "      <th>2019</th>\n",
              "      <th>2020</th>\n",
              "      <th>2021</th>\n",
              "      <th>2022</th>\n",
              "      <th>2023</th>\n",
              "      <th>Unnamed: 68</th>\n",
              "    </tr>\n",
              "  </thead>\n",
              "  <tbody>\n",
              "    <tr>\n",
              "      <th>0</th>\n",
              "      <td>Aruba</td>\n",
              "      <td>ABW</td>\n",
              "      <td>Population, total</td>\n",
              "      <td>SP.POP.TOTL</td>\n",
              "      <td>54922.0</td>\n",
              "      <td>55578.0</td>\n",
              "      <td>56320.0</td>\n",
              "      <td>57002.0</td>\n",
              "      <td>57619.0</td>\n",
              "      <td>58190.0</td>\n",
              "      <td>...</td>\n",
              "      <td>107906.0</td>\n",
              "      <td>108727.0</td>\n",
              "      <td>108735.0</td>\n",
              "      <td>108908.0</td>\n",
              "      <td>109203.0</td>\n",
              "      <td>108587.0</td>\n",
              "      <td>107700.0</td>\n",
              "      <td>107310.0</td>\n",
              "      <td>107359.0</td>\n",
              "      <td>NaN</td>\n",
              "    </tr>\n",
              "    <tr>\n",
              "      <th>1</th>\n",
              "      <td>Africa Eastern and Southern</td>\n",
              "      <td>AFE</td>\n",
              "      <td>Population, total</td>\n",
              "      <td>SP.POP.TOTL</td>\n",
              "      <td>130072080.0</td>\n",
              "      <td>133534923.0</td>\n",
              "      <td>137171659.0</td>\n",
              "      <td>140945536.0</td>\n",
              "      <td>144904094.0</td>\n",
              "      <td>149033472.0</td>\n",
              "      <td>...</td>\n",
              "      <td>607123269.0</td>\n",
              "      <td>623369401.0</td>\n",
              "      <td>640058741.0</td>\n",
              "      <td>657801085.0</td>\n",
              "      <td>675950189.0</td>\n",
              "      <td>694446100.0</td>\n",
              "      <td>713090928.0</td>\n",
              "      <td>731821393.0</td>\n",
              "      <td>750503764.0</td>\n",
              "      <td>NaN</td>\n",
              "    </tr>\n",
              "    <tr>\n",
              "      <th>2</th>\n",
              "      <td>Afghanistan</td>\n",
              "      <td>AFG</td>\n",
              "      <td>Population, total</td>\n",
              "      <td>SP.POP.TOTL</td>\n",
              "      <td>9035043.0</td>\n",
              "      <td>9214083.0</td>\n",
              "      <td>9404406.0</td>\n",
              "      <td>9604487.0</td>\n",
              "      <td>9814318.0</td>\n",
              "      <td>10036008.0</td>\n",
              "      <td>...</td>\n",
              "      <td>33831764.0</td>\n",
              "      <td>34700612.0</td>\n",
              "      <td>35688935.0</td>\n",
              "      <td>36743039.0</td>\n",
              "      <td>37856121.0</td>\n",
              "      <td>39068979.0</td>\n",
              "      <td>40000412.0</td>\n",
              "      <td>40578842.0</td>\n",
              "      <td>41454761.0</td>\n",
              "      <td>NaN</td>\n",
              "    </tr>\n",
              "    <tr>\n",
              "      <th>3</th>\n",
              "      <td>Africa Western and Central</td>\n",
              "      <td>AFW</td>\n",
              "      <td>Population, total</td>\n",
              "      <td>SP.POP.TOTL</td>\n",
              "      <td>97630925.0</td>\n",
              "      <td>99706674.0</td>\n",
              "      <td>101854756.0</td>\n",
              "      <td>104089175.0</td>\n",
              "      <td>106388440.0</td>\n",
              "      <td>108772632.0</td>\n",
              "      <td>...</td>\n",
              "      <td>418127845.0</td>\n",
              "      <td>429454743.0</td>\n",
              "      <td>440882906.0</td>\n",
              "      <td>452195915.0</td>\n",
              "      <td>463365429.0</td>\n",
              "      <td>474569351.0</td>\n",
              "      <td>485920997.0</td>\n",
              "      <td>497387180.0</td>\n",
              "      <td>509398589.0</td>\n",
              "      <td>NaN</td>\n",
              "    </tr>\n",
              "    <tr>\n",
              "      <th>4</th>\n",
              "      <td>Angola</td>\n",
              "      <td>AGO</td>\n",
              "      <td>Population, total</td>\n",
              "      <td>SP.POP.TOTL</td>\n",
              "      <td>5231654.0</td>\n",
              "      <td>5301583.0</td>\n",
              "      <td>5354310.0</td>\n",
              "      <td>5408320.0</td>\n",
              "      <td>5464187.0</td>\n",
              "      <td>5521981.0</td>\n",
              "      <td>...</td>\n",
              "      <td>28157798.0</td>\n",
              "      <td>29183070.0</td>\n",
              "      <td>30234839.0</td>\n",
              "      <td>31297155.0</td>\n",
              "      <td>32375632.0</td>\n",
              "      <td>33451132.0</td>\n",
              "      <td>34532429.0</td>\n",
              "      <td>35635029.0</td>\n",
              "      <td>36749906.0</td>\n",
              "      <td>NaN</td>\n",
              "    </tr>\n",
              "    <tr>\n",
              "      <th>...</th>\n",
              "      <td>...</td>\n",
              "      <td>...</td>\n",
              "      <td>...</td>\n",
              "      <td>...</td>\n",
              "      <td>...</td>\n",
              "      <td>...</td>\n",
              "      <td>...</td>\n",
              "      <td>...</td>\n",
              "      <td>...</td>\n",
              "      <td>...</td>\n",
              "      <td>...</td>\n",
              "      <td>...</td>\n",
              "      <td>...</td>\n",
              "      <td>...</td>\n",
              "      <td>...</td>\n",
              "      <td>...</td>\n",
              "      <td>...</td>\n",
              "      <td>...</td>\n",
              "      <td>...</td>\n",
              "      <td>...</td>\n",
              "      <td>...</td>\n",
              "    </tr>\n",
              "    <tr>\n",
              "      <th>261</th>\n",
              "      <td>Kosovo</td>\n",
              "      <td>XKX</td>\n",
              "      <td>Population, total</td>\n",
              "      <td>SP.POP.TOTL</td>\n",
              "      <td>984846.0</td>\n",
              "      <td>1011421.0</td>\n",
              "      <td>1036950.0</td>\n",
              "      <td>1062737.0</td>\n",
              "      <td>1090270.0</td>\n",
              "      <td>1120168.0</td>\n",
              "      <td>...</td>\n",
              "      <td>1788274.0</td>\n",
              "      <td>1777568.0</td>\n",
              "      <td>1791019.0</td>\n",
              "      <td>1797086.0</td>\n",
              "      <td>1788891.0</td>\n",
              "      <td>1790152.0</td>\n",
              "      <td>1786080.0</td>\n",
              "      <td>1768096.0</td>\n",
              "      <td>1756366.0</td>\n",
              "      <td>NaN</td>\n",
              "    </tr>\n",
              "    <tr>\n",
              "      <th>262</th>\n",
              "      <td>Yemen, Rep.</td>\n",
              "      <td>YEM</td>\n",
              "      <td>Population, total</td>\n",
              "      <td>SP.POP.TOTL</td>\n",
              "      <td>5532301.0</td>\n",
              "      <td>5655232.0</td>\n",
              "      <td>5782221.0</td>\n",
              "      <td>5911135.0</td>\n",
              "      <td>6048006.0</td>\n",
              "      <td>6195593.0</td>\n",
              "      <td>...</td>\n",
              "      <td>31159379.0</td>\n",
              "      <td>32109010.0</td>\n",
              "      <td>33090921.0</td>\n",
              "      <td>34085182.0</td>\n",
              "      <td>35111408.0</td>\n",
              "      <td>36134863.0</td>\n",
              "      <td>37140230.0</td>\n",
              "      <td>38222876.0</td>\n",
              "      <td>39390799.0</td>\n",
              "      <td>NaN</td>\n",
              "    </tr>\n",
              "    <tr>\n",
              "      <th>263</th>\n",
              "      <td>South Africa</td>\n",
              "      <td>ZAF</td>\n",
              "      <td>Population, total</td>\n",
              "      <td>SP.POP.TOTL</td>\n",
              "      <td>16440172.0</td>\n",
              "      <td>16908035.0</td>\n",
              "      <td>17418522.0</td>\n",
              "      <td>17954564.0</td>\n",
              "      <td>18511361.0</td>\n",
              "      <td>19089380.0</td>\n",
              "      <td>...</td>\n",
              "      <td>56723537.0</td>\n",
              "      <td>57259551.0</td>\n",
              "      <td>57635162.0</td>\n",
              "      <td>58613001.0</td>\n",
              "      <td>59587885.0</td>\n",
              "      <td>60562381.0</td>\n",
              "      <td>61502603.0</td>\n",
              "      <td>62378410.0</td>\n",
              "      <td>63212384.0</td>\n",
              "      <td>NaN</td>\n",
              "    </tr>\n",
              "    <tr>\n",
              "      <th>264</th>\n",
              "      <td>Zambia</td>\n",
              "      <td>ZMB</td>\n",
              "      <td>Population, total</td>\n",
              "      <td>SP.POP.TOTL</td>\n",
              "      <td>3153729.0</td>\n",
              "      <td>3254086.0</td>\n",
              "      <td>3358099.0</td>\n",
              "      <td>3465907.0</td>\n",
              "      <td>3577017.0</td>\n",
              "      <td>3692086.0</td>\n",
              "      <td>...</td>\n",
              "      <td>16399089.0</td>\n",
              "      <td>16914423.0</td>\n",
              "      <td>17441320.0</td>\n",
              "      <td>17973569.0</td>\n",
              "      <td>18513839.0</td>\n",
              "      <td>19059395.0</td>\n",
              "      <td>19603607.0</td>\n",
              "      <td>20152938.0</td>\n",
              "      <td>20723965.0</td>\n",
              "      <td>NaN</td>\n",
              "    </tr>\n",
              "    <tr>\n",
              "      <th>265</th>\n",
              "      <td>Zimbabwe</td>\n",
              "      <td>ZWE</td>\n",
              "      <td>Population, total</td>\n",
              "      <td>SP.POP.TOTL</td>\n",
              "      <td>3809389.0</td>\n",
              "      <td>3930401.0</td>\n",
              "      <td>4055959.0</td>\n",
              "      <td>4185877.0</td>\n",
              "      <td>4320006.0</td>\n",
              "      <td>4458462.0</td>\n",
              "      <td>...</td>\n",
              "      <td>14399013.0</td>\n",
              "      <td>14600294.0</td>\n",
              "      <td>14812482.0</td>\n",
              "      <td>15034452.0</td>\n",
              "      <td>15271368.0</td>\n",
              "      <td>15526888.0</td>\n",
              "      <td>15797210.0</td>\n",
              "      <td>16069056.0</td>\n",
              "      <td>16340822.0</td>\n",
              "      <td>NaN</td>\n",
              "    </tr>\n",
              "  </tbody>\n",
              "</table>\n",
              "<p>266 rows × 69 columns</p>\n",
              "</div>\n",
              "    <div class=\"colab-df-buttons\">\n",
              "\n",
              "  <div class=\"colab-df-container\">\n",
              "    <button class=\"colab-df-convert\" onclick=\"convertToInteractive('df-6a7265bd-6618-4861-adf5-3b7670287ca5')\"\n",
              "            title=\"Convert this dataframe to an interactive table.\"\n",
              "            style=\"display:none;\">\n",
              "\n",
              "  <svg xmlns=\"http://www.w3.org/2000/svg\" height=\"24px\" viewBox=\"0 -960 960 960\">\n",
              "    <path d=\"M120-120v-720h720v720H120Zm60-500h600v-160H180v160Zm220 220h160v-160H400v160Zm0 220h160v-160H400v160ZM180-400h160v-160H180v160Zm440 0h160v-160H620v160ZM180-180h160v-160H180v160Zm440 0h160v-160H620v160Z\"/>\n",
              "  </svg>\n",
              "    </button>\n",
              "\n",
              "  <style>\n",
              "    .colab-df-container {\n",
              "      display:flex;\n",
              "      gap: 12px;\n",
              "    }\n",
              "\n",
              "    .colab-df-convert {\n",
              "      background-color: #E8F0FE;\n",
              "      border: none;\n",
              "      border-radius: 50%;\n",
              "      cursor: pointer;\n",
              "      display: none;\n",
              "      fill: #1967D2;\n",
              "      height: 32px;\n",
              "      padding: 0 0 0 0;\n",
              "      width: 32px;\n",
              "    }\n",
              "\n",
              "    .colab-df-convert:hover {\n",
              "      background-color: #E2EBFA;\n",
              "      box-shadow: 0px 1px 2px rgba(60, 64, 67, 0.3), 0px 1px 3px 1px rgba(60, 64, 67, 0.15);\n",
              "      fill: #174EA6;\n",
              "    }\n",
              "\n",
              "    .colab-df-buttons div {\n",
              "      margin-bottom: 4px;\n",
              "    }\n",
              "\n",
              "    [theme=dark] .colab-df-convert {\n",
              "      background-color: #3B4455;\n",
              "      fill: #D2E3FC;\n",
              "    }\n",
              "\n",
              "    [theme=dark] .colab-df-convert:hover {\n",
              "      background-color: #434B5C;\n",
              "      box-shadow: 0px 1px 3px 1px rgba(0, 0, 0, 0.15);\n",
              "      filter: drop-shadow(0px 1px 2px rgba(0, 0, 0, 0.3));\n",
              "      fill: #FFFFFF;\n",
              "    }\n",
              "  </style>\n",
              "\n",
              "    <script>\n",
              "      const buttonEl =\n",
              "        document.querySelector('#df-6a7265bd-6618-4861-adf5-3b7670287ca5 button.colab-df-convert');\n",
              "      buttonEl.style.display =\n",
              "        google.colab.kernel.accessAllowed ? 'block' : 'none';\n",
              "\n",
              "      async function convertToInteractive(key) {\n",
              "        const element = document.querySelector('#df-6a7265bd-6618-4861-adf5-3b7670287ca5');\n",
              "        const dataTable =\n",
              "          await google.colab.kernel.invokeFunction('convertToInteractive',\n",
              "                                                    [key], {});\n",
              "        if (!dataTable) return;\n",
              "\n",
              "        const docLinkHtml = 'Like what you see? Visit the ' +\n",
              "          '<a target=\"_blank\" href=https://colab.research.google.com/notebooks/data_table.ipynb>data table notebook</a>'\n",
              "          + ' to learn more about interactive tables.';\n",
              "        element.innerHTML = '';\n",
              "        dataTable['output_type'] = 'display_data';\n",
              "        await google.colab.output.renderOutput(dataTable, element);\n",
              "        const docLink = document.createElement('div');\n",
              "        docLink.innerHTML = docLinkHtml;\n",
              "        element.appendChild(docLink);\n",
              "      }\n",
              "    </script>\n",
              "  </div>\n",
              "\n",
              "\n",
              "<div id=\"df-e6756aa0-4565-41da-be56-857d9c635302\">\n",
              "  <button class=\"colab-df-quickchart\" onclick=\"quickchart('df-e6756aa0-4565-41da-be56-857d9c635302')\"\n",
              "            title=\"Suggest charts\"\n",
              "            style=\"display:none;\">\n",
              "\n",
              "<svg xmlns=\"http://www.w3.org/2000/svg\" height=\"24px\"viewBox=\"0 0 24 24\"\n",
              "     width=\"24px\">\n",
              "    <g>\n",
              "        <path d=\"M19 3H5c-1.1 0-2 .9-2 2v14c0 1.1.9 2 2 2h14c1.1 0 2-.9 2-2V5c0-1.1-.9-2-2-2zM9 17H7v-7h2v7zm4 0h-2V7h2v10zm4 0h-2v-4h2v4z\"/>\n",
              "    </g>\n",
              "</svg>\n",
              "  </button>\n",
              "\n",
              "<style>\n",
              "  .colab-df-quickchart {\n",
              "      --bg-color: #E8F0FE;\n",
              "      --fill-color: #1967D2;\n",
              "      --hover-bg-color: #E2EBFA;\n",
              "      --hover-fill-color: #174EA6;\n",
              "      --disabled-fill-color: #AAA;\n",
              "      --disabled-bg-color: #DDD;\n",
              "  }\n",
              "\n",
              "  [theme=dark] .colab-df-quickchart {\n",
              "      --bg-color: #3B4455;\n",
              "      --fill-color: #D2E3FC;\n",
              "      --hover-bg-color: #434B5C;\n",
              "      --hover-fill-color: #FFFFFF;\n",
              "      --disabled-bg-color: #3B4455;\n",
              "      --disabled-fill-color: #666;\n",
              "  }\n",
              "\n",
              "  .colab-df-quickchart {\n",
              "    background-color: var(--bg-color);\n",
              "    border: none;\n",
              "    border-radius: 50%;\n",
              "    cursor: pointer;\n",
              "    display: none;\n",
              "    fill: var(--fill-color);\n",
              "    height: 32px;\n",
              "    padding: 0;\n",
              "    width: 32px;\n",
              "  }\n",
              "\n",
              "  .colab-df-quickchart:hover {\n",
              "    background-color: var(--hover-bg-color);\n",
              "    box-shadow: 0 1px 2px rgba(60, 64, 67, 0.3), 0 1px 3px 1px rgba(60, 64, 67, 0.15);\n",
              "    fill: var(--button-hover-fill-color);\n",
              "  }\n",
              "\n",
              "  .colab-df-quickchart-complete:disabled,\n",
              "  .colab-df-quickchart-complete:disabled:hover {\n",
              "    background-color: var(--disabled-bg-color);\n",
              "    fill: var(--disabled-fill-color);\n",
              "    box-shadow: none;\n",
              "  }\n",
              "\n",
              "  .colab-df-spinner {\n",
              "    border: 2px solid var(--fill-color);\n",
              "    border-color: transparent;\n",
              "    border-bottom-color: var(--fill-color);\n",
              "    animation:\n",
              "      spin 1s steps(1) infinite;\n",
              "  }\n",
              "\n",
              "  @keyframes spin {\n",
              "    0% {\n",
              "      border-color: transparent;\n",
              "      border-bottom-color: var(--fill-color);\n",
              "      border-left-color: var(--fill-color);\n",
              "    }\n",
              "    20% {\n",
              "      border-color: transparent;\n",
              "      border-left-color: var(--fill-color);\n",
              "      border-top-color: var(--fill-color);\n",
              "    }\n",
              "    30% {\n",
              "      border-color: transparent;\n",
              "      border-left-color: var(--fill-color);\n",
              "      border-top-color: var(--fill-color);\n",
              "      border-right-color: var(--fill-color);\n",
              "    }\n",
              "    40% {\n",
              "      border-color: transparent;\n",
              "      border-right-color: var(--fill-color);\n",
              "      border-top-color: var(--fill-color);\n",
              "    }\n",
              "    60% {\n",
              "      border-color: transparent;\n",
              "      border-right-color: var(--fill-color);\n",
              "    }\n",
              "    80% {\n",
              "      border-color: transparent;\n",
              "      border-right-color: var(--fill-color);\n",
              "      border-bottom-color: var(--fill-color);\n",
              "    }\n",
              "    90% {\n",
              "      border-color: transparent;\n",
              "      border-bottom-color: var(--fill-color);\n",
              "    }\n",
              "  }\n",
              "</style>\n",
              "\n",
              "  <script>\n",
              "    async function quickchart(key) {\n",
              "      const quickchartButtonEl =\n",
              "        document.querySelector('#' + key + ' button');\n",
              "      quickchartButtonEl.disabled = true;  // To prevent multiple clicks.\n",
              "      quickchartButtonEl.classList.add('colab-df-spinner');\n",
              "      try {\n",
              "        const charts = await google.colab.kernel.invokeFunction(\n",
              "            'suggestCharts', [key], {});\n",
              "      } catch (error) {\n",
              "        console.error('Error during call to suggestCharts:', error);\n",
              "      }\n",
              "      quickchartButtonEl.classList.remove('colab-df-spinner');\n",
              "      quickchartButtonEl.classList.add('colab-df-quickchart-complete');\n",
              "    }\n",
              "    (() => {\n",
              "      let quickchartButtonEl =\n",
              "        document.querySelector('#df-e6756aa0-4565-41da-be56-857d9c635302 button');\n",
              "      quickchartButtonEl.style.display =\n",
              "        google.colab.kernel.accessAllowed ? 'block' : 'none';\n",
              "    })();\n",
              "  </script>\n",
              "</div>\n",
              "\n",
              "  <div id=\"id_6ffb8a0b-dd7b-417c-b9c7-25927f3bf708\">\n",
              "    <style>\n",
              "      .colab-df-generate {\n",
              "        background-color: #E8F0FE;\n",
              "        border: none;\n",
              "        border-radius: 50%;\n",
              "        cursor: pointer;\n",
              "        display: none;\n",
              "        fill: #1967D2;\n",
              "        height: 32px;\n",
              "        padding: 0 0 0 0;\n",
              "        width: 32px;\n",
              "      }\n",
              "\n",
              "      .colab-df-generate:hover {\n",
              "        background-color: #E2EBFA;\n",
              "        box-shadow: 0px 1px 2px rgba(60, 64, 67, 0.3), 0px 1px 3px 1px rgba(60, 64, 67, 0.15);\n",
              "        fill: #174EA6;\n",
              "      }\n",
              "\n",
              "      [theme=dark] .colab-df-generate {\n",
              "        background-color: #3B4455;\n",
              "        fill: #D2E3FC;\n",
              "      }\n",
              "\n",
              "      [theme=dark] .colab-df-generate:hover {\n",
              "        background-color: #434B5C;\n",
              "        box-shadow: 0px 1px 3px 1px rgba(0, 0, 0, 0.15);\n",
              "        filter: drop-shadow(0px 1px 2px rgba(0, 0, 0, 0.3));\n",
              "        fill: #FFFFFF;\n",
              "      }\n",
              "    </style>\n",
              "    <button class=\"colab-df-generate\" onclick=\"generateWithVariable('data')\"\n",
              "            title=\"Generate code using this dataframe.\"\n",
              "            style=\"display:none;\">\n",
              "\n",
              "  <svg xmlns=\"http://www.w3.org/2000/svg\" height=\"24px\"viewBox=\"0 0 24 24\"\n",
              "       width=\"24px\">\n",
              "    <path d=\"M7,19H8.4L18.45,9,17,7.55,7,17.6ZM5,21V16.75L18.45,3.32a2,2,0,0,1,2.83,0l1.4,1.43a1.91,1.91,0,0,1,.58,1.4,1.91,1.91,0,0,1-.58,1.4L9.25,21ZM18.45,9,17,7.55Zm-12,3A5.31,5.31,0,0,0,4.9,8.1,5.31,5.31,0,0,0,1,6.5,5.31,5.31,0,0,0,4.9,4.9,5.31,5.31,0,0,0,6.5,1,5.31,5.31,0,0,0,8.1,4.9,5.31,5.31,0,0,0,12,6.5,5.46,5.46,0,0,0,6.5,12Z\"/>\n",
              "  </svg>\n",
              "    </button>\n",
              "    <script>\n",
              "      (() => {\n",
              "      const buttonEl =\n",
              "        document.querySelector('#id_6ffb8a0b-dd7b-417c-b9c7-25927f3bf708 button.colab-df-generate');\n",
              "      buttonEl.style.display =\n",
              "        google.colab.kernel.accessAllowed ? 'block' : 'none';\n",
              "\n",
              "      buttonEl.onclick = () => {\n",
              "        google.colab.notebook.generateWithVariable('data');\n",
              "      }\n",
              "      })();\n",
              "    </script>\n",
              "  </div>\n",
              "\n",
              "    </div>\n",
              "  </div>\n"
            ],
            "application/vnd.google.colaboratory.intrinsic+json": {
              "type": "dataframe",
              "variable_name": "data"
            }
          },
          "metadata": {},
          "execution_count": 30
        }
      ]
    },
    {
      "cell_type": "markdown",
      "source": [
        "# Display the first few rows"
      ],
      "metadata": {
        "id": "_wy634ZasAyR"
      }
    },
    {
      "cell_type": "code",
      "source": [
        "\n",
        "data.head()\n"
      ],
      "metadata": {
        "colab": {
          "base_uri": "https://localhost:8080/",
          "height": 412
        },
        "id": "NfkEkrrLY0MU",
        "outputId": "979d1699-cc38-4b21-e7fa-87d52163af84"
      },
      "execution_count": null,
      "outputs": [
        {
          "output_type": "execute_result",
          "data": {
            "text/plain": [
              "                  Country Name Country Code     Indicator Name Indicator Code  \\\n",
              "0                        Aruba          ABW  Population, total    SP.POP.TOTL   \n",
              "1  Africa Eastern and Southern          AFE  Population, total    SP.POP.TOTL   \n",
              "2                  Afghanistan          AFG  Population, total    SP.POP.TOTL   \n",
              "3   Africa Western and Central          AFW  Population, total    SP.POP.TOTL   \n",
              "4                       Angola          AGO  Population, total    SP.POP.TOTL   \n",
              "\n",
              "          1960         1961         1962         1963         1964  \\\n",
              "0      54922.0      55578.0      56320.0      57002.0      57619.0   \n",
              "1  130072080.0  133534923.0  137171659.0  140945536.0  144904094.0   \n",
              "2    9035043.0    9214083.0    9404406.0    9604487.0    9814318.0   \n",
              "3   97630925.0   99706674.0  101854756.0  104089175.0  106388440.0   \n",
              "4    5231654.0    5301583.0    5354310.0    5408320.0    5464187.0   \n",
              "\n",
              "          1965  ...         2015         2016         2017         2018  \\\n",
              "0      58190.0  ...     107906.0     108727.0     108735.0     108908.0   \n",
              "1  149033472.0  ...  607123269.0  623369401.0  640058741.0  657801085.0   \n",
              "2   10036008.0  ...   33831764.0   34700612.0   35688935.0   36743039.0   \n",
              "3  108772632.0  ...  418127845.0  429454743.0  440882906.0  452195915.0   \n",
              "4    5521981.0  ...   28157798.0   29183070.0   30234839.0   31297155.0   \n",
              "\n",
              "          2019         2020         2021         2022         2023  \\\n",
              "0     109203.0     108587.0     107700.0     107310.0     107359.0   \n",
              "1  675950189.0  694446100.0  713090928.0  731821393.0  750503764.0   \n",
              "2   37856121.0   39068979.0   40000412.0   40578842.0   41454761.0   \n",
              "3  463365429.0  474569351.0  485920997.0  497387180.0  509398589.0   \n",
              "4   32375632.0   33451132.0   34532429.0   35635029.0   36749906.0   \n",
              "\n",
              "   Unnamed: 68  \n",
              "0          NaN  \n",
              "1          NaN  \n",
              "2          NaN  \n",
              "3          NaN  \n",
              "4          NaN  \n",
              "\n",
              "[5 rows x 69 columns]"
            ],
            "text/html": [
              "\n",
              "  <div id=\"df-81f8e536-7674-4689-bf6d-7004383d2b9f\" class=\"colab-df-container\">\n",
              "    <div>\n",
              "<style scoped>\n",
              "    .dataframe tbody tr th:only-of-type {\n",
              "        vertical-align: middle;\n",
              "    }\n",
              "\n",
              "    .dataframe tbody tr th {\n",
              "        vertical-align: top;\n",
              "    }\n",
              "\n",
              "    .dataframe thead th {\n",
              "        text-align: right;\n",
              "    }\n",
              "</style>\n",
              "<table border=\"1\" class=\"dataframe\">\n",
              "  <thead>\n",
              "    <tr style=\"text-align: right;\">\n",
              "      <th></th>\n",
              "      <th>Country Name</th>\n",
              "      <th>Country Code</th>\n",
              "      <th>Indicator Name</th>\n",
              "      <th>Indicator Code</th>\n",
              "      <th>1960</th>\n",
              "      <th>1961</th>\n",
              "      <th>1962</th>\n",
              "      <th>1963</th>\n",
              "      <th>1964</th>\n",
              "      <th>1965</th>\n",
              "      <th>...</th>\n",
              "      <th>2015</th>\n",
              "      <th>2016</th>\n",
              "      <th>2017</th>\n",
              "      <th>2018</th>\n",
              "      <th>2019</th>\n",
              "      <th>2020</th>\n",
              "      <th>2021</th>\n",
              "      <th>2022</th>\n",
              "      <th>2023</th>\n",
              "      <th>Unnamed: 68</th>\n",
              "    </tr>\n",
              "  </thead>\n",
              "  <tbody>\n",
              "    <tr>\n",
              "      <th>0</th>\n",
              "      <td>Aruba</td>\n",
              "      <td>ABW</td>\n",
              "      <td>Population, total</td>\n",
              "      <td>SP.POP.TOTL</td>\n",
              "      <td>54922.0</td>\n",
              "      <td>55578.0</td>\n",
              "      <td>56320.0</td>\n",
              "      <td>57002.0</td>\n",
              "      <td>57619.0</td>\n",
              "      <td>58190.0</td>\n",
              "      <td>...</td>\n",
              "      <td>107906.0</td>\n",
              "      <td>108727.0</td>\n",
              "      <td>108735.0</td>\n",
              "      <td>108908.0</td>\n",
              "      <td>109203.0</td>\n",
              "      <td>108587.0</td>\n",
              "      <td>107700.0</td>\n",
              "      <td>107310.0</td>\n",
              "      <td>107359.0</td>\n",
              "      <td>NaN</td>\n",
              "    </tr>\n",
              "    <tr>\n",
              "      <th>1</th>\n",
              "      <td>Africa Eastern and Southern</td>\n",
              "      <td>AFE</td>\n",
              "      <td>Population, total</td>\n",
              "      <td>SP.POP.TOTL</td>\n",
              "      <td>130072080.0</td>\n",
              "      <td>133534923.0</td>\n",
              "      <td>137171659.0</td>\n",
              "      <td>140945536.0</td>\n",
              "      <td>144904094.0</td>\n",
              "      <td>149033472.0</td>\n",
              "      <td>...</td>\n",
              "      <td>607123269.0</td>\n",
              "      <td>623369401.0</td>\n",
              "      <td>640058741.0</td>\n",
              "      <td>657801085.0</td>\n",
              "      <td>675950189.0</td>\n",
              "      <td>694446100.0</td>\n",
              "      <td>713090928.0</td>\n",
              "      <td>731821393.0</td>\n",
              "      <td>750503764.0</td>\n",
              "      <td>NaN</td>\n",
              "    </tr>\n",
              "    <tr>\n",
              "      <th>2</th>\n",
              "      <td>Afghanistan</td>\n",
              "      <td>AFG</td>\n",
              "      <td>Population, total</td>\n",
              "      <td>SP.POP.TOTL</td>\n",
              "      <td>9035043.0</td>\n",
              "      <td>9214083.0</td>\n",
              "      <td>9404406.0</td>\n",
              "      <td>9604487.0</td>\n",
              "      <td>9814318.0</td>\n",
              "      <td>10036008.0</td>\n",
              "      <td>...</td>\n",
              "      <td>33831764.0</td>\n",
              "      <td>34700612.0</td>\n",
              "      <td>35688935.0</td>\n",
              "      <td>36743039.0</td>\n",
              "      <td>37856121.0</td>\n",
              "      <td>39068979.0</td>\n",
              "      <td>40000412.0</td>\n",
              "      <td>40578842.0</td>\n",
              "      <td>41454761.0</td>\n",
              "      <td>NaN</td>\n",
              "    </tr>\n",
              "    <tr>\n",
              "      <th>3</th>\n",
              "      <td>Africa Western and Central</td>\n",
              "      <td>AFW</td>\n",
              "      <td>Population, total</td>\n",
              "      <td>SP.POP.TOTL</td>\n",
              "      <td>97630925.0</td>\n",
              "      <td>99706674.0</td>\n",
              "      <td>101854756.0</td>\n",
              "      <td>104089175.0</td>\n",
              "      <td>106388440.0</td>\n",
              "      <td>108772632.0</td>\n",
              "      <td>...</td>\n",
              "      <td>418127845.0</td>\n",
              "      <td>429454743.0</td>\n",
              "      <td>440882906.0</td>\n",
              "      <td>452195915.0</td>\n",
              "      <td>463365429.0</td>\n",
              "      <td>474569351.0</td>\n",
              "      <td>485920997.0</td>\n",
              "      <td>497387180.0</td>\n",
              "      <td>509398589.0</td>\n",
              "      <td>NaN</td>\n",
              "    </tr>\n",
              "    <tr>\n",
              "      <th>4</th>\n",
              "      <td>Angola</td>\n",
              "      <td>AGO</td>\n",
              "      <td>Population, total</td>\n",
              "      <td>SP.POP.TOTL</td>\n",
              "      <td>5231654.0</td>\n",
              "      <td>5301583.0</td>\n",
              "      <td>5354310.0</td>\n",
              "      <td>5408320.0</td>\n",
              "      <td>5464187.0</td>\n",
              "      <td>5521981.0</td>\n",
              "      <td>...</td>\n",
              "      <td>28157798.0</td>\n",
              "      <td>29183070.0</td>\n",
              "      <td>30234839.0</td>\n",
              "      <td>31297155.0</td>\n",
              "      <td>32375632.0</td>\n",
              "      <td>33451132.0</td>\n",
              "      <td>34532429.0</td>\n",
              "      <td>35635029.0</td>\n",
              "      <td>36749906.0</td>\n",
              "      <td>NaN</td>\n",
              "    </tr>\n",
              "  </tbody>\n",
              "</table>\n",
              "<p>5 rows × 69 columns</p>\n",
              "</div>\n",
              "    <div class=\"colab-df-buttons\">\n",
              "\n",
              "  <div class=\"colab-df-container\">\n",
              "    <button class=\"colab-df-convert\" onclick=\"convertToInteractive('df-81f8e536-7674-4689-bf6d-7004383d2b9f')\"\n",
              "            title=\"Convert this dataframe to an interactive table.\"\n",
              "            style=\"display:none;\">\n",
              "\n",
              "  <svg xmlns=\"http://www.w3.org/2000/svg\" height=\"24px\" viewBox=\"0 -960 960 960\">\n",
              "    <path d=\"M120-120v-720h720v720H120Zm60-500h600v-160H180v160Zm220 220h160v-160H400v160Zm0 220h160v-160H400v160ZM180-400h160v-160H180v160Zm440 0h160v-160H620v160ZM180-180h160v-160H180v160Zm440 0h160v-160H620v160Z\"/>\n",
              "  </svg>\n",
              "    </button>\n",
              "\n",
              "  <style>\n",
              "    .colab-df-container {\n",
              "      display:flex;\n",
              "      gap: 12px;\n",
              "    }\n",
              "\n",
              "    .colab-df-convert {\n",
              "      background-color: #E8F0FE;\n",
              "      border: none;\n",
              "      border-radius: 50%;\n",
              "      cursor: pointer;\n",
              "      display: none;\n",
              "      fill: #1967D2;\n",
              "      height: 32px;\n",
              "      padding: 0 0 0 0;\n",
              "      width: 32px;\n",
              "    }\n",
              "\n",
              "    .colab-df-convert:hover {\n",
              "      background-color: #E2EBFA;\n",
              "      box-shadow: 0px 1px 2px rgba(60, 64, 67, 0.3), 0px 1px 3px 1px rgba(60, 64, 67, 0.15);\n",
              "      fill: #174EA6;\n",
              "    }\n",
              "\n",
              "    .colab-df-buttons div {\n",
              "      margin-bottom: 4px;\n",
              "    }\n",
              "\n",
              "    [theme=dark] .colab-df-convert {\n",
              "      background-color: #3B4455;\n",
              "      fill: #D2E3FC;\n",
              "    }\n",
              "\n",
              "    [theme=dark] .colab-df-convert:hover {\n",
              "      background-color: #434B5C;\n",
              "      box-shadow: 0px 1px 3px 1px rgba(0, 0, 0, 0.15);\n",
              "      filter: drop-shadow(0px 1px 2px rgba(0, 0, 0, 0.3));\n",
              "      fill: #FFFFFF;\n",
              "    }\n",
              "  </style>\n",
              "\n",
              "    <script>\n",
              "      const buttonEl =\n",
              "        document.querySelector('#df-81f8e536-7674-4689-bf6d-7004383d2b9f button.colab-df-convert');\n",
              "      buttonEl.style.display =\n",
              "        google.colab.kernel.accessAllowed ? 'block' : 'none';\n",
              "\n",
              "      async function convertToInteractive(key) {\n",
              "        const element = document.querySelector('#df-81f8e536-7674-4689-bf6d-7004383d2b9f');\n",
              "        const dataTable =\n",
              "          await google.colab.kernel.invokeFunction('convertToInteractive',\n",
              "                                                    [key], {});\n",
              "        if (!dataTable) return;\n",
              "\n",
              "        const docLinkHtml = 'Like what you see? Visit the ' +\n",
              "          '<a target=\"_blank\" href=https://colab.research.google.com/notebooks/data_table.ipynb>data table notebook</a>'\n",
              "          + ' to learn more about interactive tables.';\n",
              "        element.innerHTML = '';\n",
              "        dataTable['output_type'] = 'display_data';\n",
              "        await google.colab.output.renderOutput(dataTable, element);\n",
              "        const docLink = document.createElement('div');\n",
              "        docLink.innerHTML = docLinkHtml;\n",
              "        element.appendChild(docLink);\n",
              "      }\n",
              "    </script>\n",
              "  </div>\n",
              "\n",
              "\n",
              "<div id=\"df-7f23f835-e95b-4a87-a627-1bcb2255bbb6\">\n",
              "  <button class=\"colab-df-quickchart\" onclick=\"quickchart('df-7f23f835-e95b-4a87-a627-1bcb2255bbb6')\"\n",
              "            title=\"Suggest charts\"\n",
              "            style=\"display:none;\">\n",
              "\n",
              "<svg xmlns=\"http://www.w3.org/2000/svg\" height=\"24px\"viewBox=\"0 0 24 24\"\n",
              "     width=\"24px\">\n",
              "    <g>\n",
              "        <path d=\"M19 3H5c-1.1 0-2 .9-2 2v14c0 1.1.9 2 2 2h14c1.1 0 2-.9 2-2V5c0-1.1-.9-2-2-2zM9 17H7v-7h2v7zm4 0h-2V7h2v10zm4 0h-2v-4h2v4z\"/>\n",
              "    </g>\n",
              "</svg>\n",
              "  </button>\n",
              "\n",
              "<style>\n",
              "  .colab-df-quickchart {\n",
              "      --bg-color: #E8F0FE;\n",
              "      --fill-color: #1967D2;\n",
              "      --hover-bg-color: #E2EBFA;\n",
              "      --hover-fill-color: #174EA6;\n",
              "      --disabled-fill-color: #AAA;\n",
              "      --disabled-bg-color: #DDD;\n",
              "  }\n",
              "\n",
              "  [theme=dark] .colab-df-quickchart {\n",
              "      --bg-color: #3B4455;\n",
              "      --fill-color: #D2E3FC;\n",
              "      --hover-bg-color: #434B5C;\n",
              "      --hover-fill-color: #FFFFFF;\n",
              "      --disabled-bg-color: #3B4455;\n",
              "      --disabled-fill-color: #666;\n",
              "  }\n",
              "\n",
              "  .colab-df-quickchart {\n",
              "    background-color: var(--bg-color);\n",
              "    border: none;\n",
              "    border-radius: 50%;\n",
              "    cursor: pointer;\n",
              "    display: none;\n",
              "    fill: var(--fill-color);\n",
              "    height: 32px;\n",
              "    padding: 0;\n",
              "    width: 32px;\n",
              "  }\n",
              "\n",
              "  .colab-df-quickchart:hover {\n",
              "    background-color: var(--hover-bg-color);\n",
              "    box-shadow: 0 1px 2px rgba(60, 64, 67, 0.3), 0 1px 3px 1px rgba(60, 64, 67, 0.15);\n",
              "    fill: var(--button-hover-fill-color);\n",
              "  }\n",
              "\n",
              "  .colab-df-quickchart-complete:disabled,\n",
              "  .colab-df-quickchart-complete:disabled:hover {\n",
              "    background-color: var(--disabled-bg-color);\n",
              "    fill: var(--disabled-fill-color);\n",
              "    box-shadow: none;\n",
              "  }\n",
              "\n",
              "  .colab-df-spinner {\n",
              "    border: 2px solid var(--fill-color);\n",
              "    border-color: transparent;\n",
              "    border-bottom-color: var(--fill-color);\n",
              "    animation:\n",
              "      spin 1s steps(1) infinite;\n",
              "  }\n",
              "\n",
              "  @keyframes spin {\n",
              "    0% {\n",
              "      border-color: transparent;\n",
              "      border-bottom-color: var(--fill-color);\n",
              "      border-left-color: var(--fill-color);\n",
              "    }\n",
              "    20% {\n",
              "      border-color: transparent;\n",
              "      border-left-color: var(--fill-color);\n",
              "      border-top-color: var(--fill-color);\n",
              "    }\n",
              "    30% {\n",
              "      border-color: transparent;\n",
              "      border-left-color: var(--fill-color);\n",
              "      border-top-color: var(--fill-color);\n",
              "      border-right-color: var(--fill-color);\n",
              "    }\n",
              "    40% {\n",
              "      border-color: transparent;\n",
              "      border-right-color: var(--fill-color);\n",
              "      border-top-color: var(--fill-color);\n",
              "    }\n",
              "    60% {\n",
              "      border-color: transparent;\n",
              "      border-right-color: var(--fill-color);\n",
              "    }\n",
              "    80% {\n",
              "      border-color: transparent;\n",
              "      border-right-color: var(--fill-color);\n",
              "      border-bottom-color: var(--fill-color);\n",
              "    }\n",
              "    90% {\n",
              "      border-color: transparent;\n",
              "      border-bottom-color: var(--fill-color);\n",
              "    }\n",
              "  }\n",
              "</style>\n",
              "\n",
              "  <script>\n",
              "    async function quickchart(key) {\n",
              "      const quickchartButtonEl =\n",
              "        document.querySelector('#' + key + ' button');\n",
              "      quickchartButtonEl.disabled = true;  // To prevent multiple clicks.\n",
              "      quickchartButtonEl.classList.add('colab-df-spinner');\n",
              "      try {\n",
              "        const charts = await google.colab.kernel.invokeFunction(\n",
              "            'suggestCharts', [key], {});\n",
              "      } catch (error) {\n",
              "        console.error('Error during call to suggestCharts:', error);\n",
              "      }\n",
              "      quickchartButtonEl.classList.remove('colab-df-spinner');\n",
              "      quickchartButtonEl.classList.add('colab-df-quickchart-complete');\n",
              "    }\n",
              "    (() => {\n",
              "      let quickchartButtonEl =\n",
              "        document.querySelector('#df-7f23f835-e95b-4a87-a627-1bcb2255bbb6 button');\n",
              "      quickchartButtonEl.style.display =\n",
              "        google.colab.kernel.accessAllowed ? 'block' : 'none';\n",
              "    })();\n",
              "  </script>\n",
              "</div>\n",
              "\n",
              "    </div>\n",
              "  </div>\n"
            ],
            "application/vnd.google.colaboratory.intrinsic+json": {
              "type": "dataframe",
              "variable_name": "data"
            }
          },
          "metadata": {},
          "execution_count": 31
        }
      ]
    },
    {
      "cell_type": "markdown",
      "source": [
        "# Display the last few rows"
      ],
      "metadata": {
        "id": "sWaZy3FCsCYg"
      }
    },
    {
      "cell_type": "code",
      "source": [
        "data.tail()"
      ],
      "metadata": {
        "colab": {
          "base_uri": "https://localhost:8080/",
          "height": 360
        },
        "id": "kIPX3AXeZfGw",
        "outputId": "7429798b-ad7e-4df9-e79e-7b8474fd06c8"
      },
      "execution_count": null,
      "outputs": [
        {
          "output_type": "execute_result",
          "data": {
            "text/plain": [
              "     Country Name Country Code     Indicator Name Indicator Code        1960  \\\n",
              "261        Kosovo          XKX  Population, total    SP.POP.TOTL    984846.0   \n",
              "262   Yemen, Rep.          YEM  Population, total    SP.POP.TOTL   5532301.0   \n",
              "263  South Africa          ZAF  Population, total    SP.POP.TOTL  16440172.0   \n",
              "264        Zambia          ZMB  Population, total    SP.POP.TOTL   3153729.0   \n",
              "265      Zimbabwe          ZWE  Population, total    SP.POP.TOTL   3809389.0   \n",
              "\n",
              "           1961        1962        1963        1964        1965  ...  \\\n",
              "261   1011421.0   1036950.0   1062737.0   1090270.0   1120168.0  ...   \n",
              "262   5655232.0   5782221.0   5911135.0   6048006.0   6195593.0  ...   \n",
              "263  16908035.0  17418522.0  17954564.0  18511361.0  19089380.0  ...   \n",
              "264   3254086.0   3358099.0   3465907.0   3577017.0   3692086.0  ...   \n",
              "265   3930401.0   4055959.0   4185877.0   4320006.0   4458462.0  ...   \n",
              "\n",
              "           2015        2016        2017        2018        2019        2020  \\\n",
              "261   1788274.0   1777568.0   1791019.0   1797086.0   1788891.0   1790152.0   \n",
              "262  31159379.0  32109010.0  33090921.0  34085182.0  35111408.0  36134863.0   \n",
              "263  56723537.0  57259551.0  57635162.0  58613001.0  59587885.0  60562381.0   \n",
              "264  16399089.0  16914423.0  17441320.0  17973569.0  18513839.0  19059395.0   \n",
              "265  14399013.0  14600294.0  14812482.0  15034452.0  15271368.0  15526888.0   \n",
              "\n",
              "           2021        2022        2023  Unnamed: 68  \n",
              "261   1786080.0   1768096.0   1756366.0          NaN  \n",
              "262  37140230.0  38222876.0  39390799.0          NaN  \n",
              "263  61502603.0  62378410.0  63212384.0          NaN  \n",
              "264  19603607.0  20152938.0  20723965.0          NaN  \n",
              "265  15797210.0  16069056.0  16340822.0          NaN  \n",
              "\n",
              "[5 rows x 69 columns]"
            ],
            "text/html": [
              "\n",
              "  <div id=\"df-39f71645-8deb-4b45-b70d-08864b0980c8\" class=\"colab-df-container\">\n",
              "    <div>\n",
              "<style scoped>\n",
              "    .dataframe tbody tr th:only-of-type {\n",
              "        vertical-align: middle;\n",
              "    }\n",
              "\n",
              "    .dataframe tbody tr th {\n",
              "        vertical-align: top;\n",
              "    }\n",
              "\n",
              "    .dataframe thead th {\n",
              "        text-align: right;\n",
              "    }\n",
              "</style>\n",
              "<table border=\"1\" class=\"dataframe\">\n",
              "  <thead>\n",
              "    <tr style=\"text-align: right;\">\n",
              "      <th></th>\n",
              "      <th>Country Name</th>\n",
              "      <th>Country Code</th>\n",
              "      <th>Indicator Name</th>\n",
              "      <th>Indicator Code</th>\n",
              "      <th>1960</th>\n",
              "      <th>1961</th>\n",
              "      <th>1962</th>\n",
              "      <th>1963</th>\n",
              "      <th>1964</th>\n",
              "      <th>1965</th>\n",
              "      <th>...</th>\n",
              "      <th>2015</th>\n",
              "      <th>2016</th>\n",
              "      <th>2017</th>\n",
              "      <th>2018</th>\n",
              "      <th>2019</th>\n",
              "      <th>2020</th>\n",
              "      <th>2021</th>\n",
              "      <th>2022</th>\n",
              "      <th>2023</th>\n",
              "      <th>Unnamed: 68</th>\n",
              "    </tr>\n",
              "  </thead>\n",
              "  <tbody>\n",
              "    <tr>\n",
              "      <th>261</th>\n",
              "      <td>Kosovo</td>\n",
              "      <td>XKX</td>\n",
              "      <td>Population, total</td>\n",
              "      <td>SP.POP.TOTL</td>\n",
              "      <td>984846.0</td>\n",
              "      <td>1011421.0</td>\n",
              "      <td>1036950.0</td>\n",
              "      <td>1062737.0</td>\n",
              "      <td>1090270.0</td>\n",
              "      <td>1120168.0</td>\n",
              "      <td>...</td>\n",
              "      <td>1788274.0</td>\n",
              "      <td>1777568.0</td>\n",
              "      <td>1791019.0</td>\n",
              "      <td>1797086.0</td>\n",
              "      <td>1788891.0</td>\n",
              "      <td>1790152.0</td>\n",
              "      <td>1786080.0</td>\n",
              "      <td>1768096.0</td>\n",
              "      <td>1756366.0</td>\n",
              "      <td>NaN</td>\n",
              "    </tr>\n",
              "    <tr>\n",
              "      <th>262</th>\n",
              "      <td>Yemen, Rep.</td>\n",
              "      <td>YEM</td>\n",
              "      <td>Population, total</td>\n",
              "      <td>SP.POP.TOTL</td>\n",
              "      <td>5532301.0</td>\n",
              "      <td>5655232.0</td>\n",
              "      <td>5782221.0</td>\n",
              "      <td>5911135.0</td>\n",
              "      <td>6048006.0</td>\n",
              "      <td>6195593.0</td>\n",
              "      <td>...</td>\n",
              "      <td>31159379.0</td>\n",
              "      <td>32109010.0</td>\n",
              "      <td>33090921.0</td>\n",
              "      <td>34085182.0</td>\n",
              "      <td>35111408.0</td>\n",
              "      <td>36134863.0</td>\n",
              "      <td>37140230.0</td>\n",
              "      <td>38222876.0</td>\n",
              "      <td>39390799.0</td>\n",
              "      <td>NaN</td>\n",
              "    </tr>\n",
              "    <tr>\n",
              "      <th>263</th>\n",
              "      <td>South Africa</td>\n",
              "      <td>ZAF</td>\n",
              "      <td>Population, total</td>\n",
              "      <td>SP.POP.TOTL</td>\n",
              "      <td>16440172.0</td>\n",
              "      <td>16908035.0</td>\n",
              "      <td>17418522.0</td>\n",
              "      <td>17954564.0</td>\n",
              "      <td>18511361.0</td>\n",
              "      <td>19089380.0</td>\n",
              "      <td>...</td>\n",
              "      <td>56723537.0</td>\n",
              "      <td>57259551.0</td>\n",
              "      <td>57635162.0</td>\n",
              "      <td>58613001.0</td>\n",
              "      <td>59587885.0</td>\n",
              "      <td>60562381.0</td>\n",
              "      <td>61502603.0</td>\n",
              "      <td>62378410.0</td>\n",
              "      <td>63212384.0</td>\n",
              "      <td>NaN</td>\n",
              "    </tr>\n",
              "    <tr>\n",
              "      <th>264</th>\n",
              "      <td>Zambia</td>\n",
              "      <td>ZMB</td>\n",
              "      <td>Population, total</td>\n",
              "      <td>SP.POP.TOTL</td>\n",
              "      <td>3153729.0</td>\n",
              "      <td>3254086.0</td>\n",
              "      <td>3358099.0</td>\n",
              "      <td>3465907.0</td>\n",
              "      <td>3577017.0</td>\n",
              "      <td>3692086.0</td>\n",
              "      <td>...</td>\n",
              "      <td>16399089.0</td>\n",
              "      <td>16914423.0</td>\n",
              "      <td>17441320.0</td>\n",
              "      <td>17973569.0</td>\n",
              "      <td>18513839.0</td>\n",
              "      <td>19059395.0</td>\n",
              "      <td>19603607.0</td>\n",
              "      <td>20152938.0</td>\n",
              "      <td>20723965.0</td>\n",
              "      <td>NaN</td>\n",
              "    </tr>\n",
              "    <tr>\n",
              "      <th>265</th>\n",
              "      <td>Zimbabwe</td>\n",
              "      <td>ZWE</td>\n",
              "      <td>Population, total</td>\n",
              "      <td>SP.POP.TOTL</td>\n",
              "      <td>3809389.0</td>\n",
              "      <td>3930401.0</td>\n",
              "      <td>4055959.0</td>\n",
              "      <td>4185877.0</td>\n",
              "      <td>4320006.0</td>\n",
              "      <td>4458462.0</td>\n",
              "      <td>...</td>\n",
              "      <td>14399013.0</td>\n",
              "      <td>14600294.0</td>\n",
              "      <td>14812482.0</td>\n",
              "      <td>15034452.0</td>\n",
              "      <td>15271368.0</td>\n",
              "      <td>15526888.0</td>\n",
              "      <td>15797210.0</td>\n",
              "      <td>16069056.0</td>\n",
              "      <td>16340822.0</td>\n",
              "      <td>NaN</td>\n",
              "    </tr>\n",
              "  </tbody>\n",
              "</table>\n",
              "<p>5 rows × 69 columns</p>\n",
              "</div>\n",
              "    <div class=\"colab-df-buttons\">\n",
              "\n",
              "  <div class=\"colab-df-container\">\n",
              "    <button class=\"colab-df-convert\" onclick=\"convertToInteractive('df-39f71645-8deb-4b45-b70d-08864b0980c8')\"\n",
              "            title=\"Convert this dataframe to an interactive table.\"\n",
              "            style=\"display:none;\">\n",
              "\n",
              "  <svg xmlns=\"http://www.w3.org/2000/svg\" height=\"24px\" viewBox=\"0 -960 960 960\">\n",
              "    <path d=\"M120-120v-720h720v720H120Zm60-500h600v-160H180v160Zm220 220h160v-160H400v160Zm0 220h160v-160H400v160ZM180-400h160v-160H180v160Zm440 0h160v-160H620v160ZM180-180h160v-160H180v160Zm440 0h160v-160H620v160Z\"/>\n",
              "  </svg>\n",
              "    </button>\n",
              "\n",
              "  <style>\n",
              "    .colab-df-container {\n",
              "      display:flex;\n",
              "      gap: 12px;\n",
              "    }\n",
              "\n",
              "    .colab-df-convert {\n",
              "      background-color: #E8F0FE;\n",
              "      border: none;\n",
              "      border-radius: 50%;\n",
              "      cursor: pointer;\n",
              "      display: none;\n",
              "      fill: #1967D2;\n",
              "      height: 32px;\n",
              "      padding: 0 0 0 0;\n",
              "      width: 32px;\n",
              "    }\n",
              "\n",
              "    .colab-df-convert:hover {\n",
              "      background-color: #E2EBFA;\n",
              "      box-shadow: 0px 1px 2px rgba(60, 64, 67, 0.3), 0px 1px 3px 1px rgba(60, 64, 67, 0.15);\n",
              "      fill: #174EA6;\n",
              "    }\n",
              "\n",
              "    .colab-df-buttons div {\n",
              "      margin-bottom: 4px;\n",
              "    }\n",
              "\n",
              "    [theme=dark] .colab-df-convert {\n",
              "      background-color: #3B4455;\n",
              "      fill: #D2E3FC;\n",
              "    }\n",
              "\n",
              "    [theme=dark] .colab-df-convert:hover {\n",
              "      background-color: #434B5C;\n",
              "      box-shadow: 0px 1px 3px 1px rgba(0, 0, 0, 0.15);\n",
              "      filter: drop-shadow(0px 1px 2px rgba(0, 0, 0, 0.3));\n",
              "      fill: #FFFFFF;\n",
              "    }\n",
              "  </style>\n",
              "\n",
              "    <script>\n",
              "      const buttonEl =\n",
              "        document.querySelector('#df-39f71645-8deb-4b45-b70d-08864b0980c8 button.colab-df-convert');\n",
              "      buttonEl.style.display =\n",
              "        google.colab.kernel.accessAllowed ? 'block' : 'none';\n",
              "\n",
              "      async function convertToInteractive(key) {\n",
              "        const element = document.querySelector('#df-39f71645-8deb-4b45-b70d-08864b0980c8');\n",
              "        const dataTable =\n",
              "          await google.colab.kernel.invokeFunction('convertToInteractive',\n",
              "                                                    [key], {});\n",
              "        if (!dataTable) return;\n",
              "\n",
              "        const docLinkHtml = 'Like what you see? Visit the ' +\n",
              "          '<a target=\"_blank\" href=https://colab.research.google.com/notebooks/data_table.ipynb>data table notebook</a>'\n",
              "          + ' to learn more about interactive tables.';\n",
              "        element.innerHTML = '';\n",
              "        dataTable['output_type'] = 'display_data';\n",
              "        await google.colab.output.renderOutput(dataTable, element);\n",
              "        const docLink = document.createElement('div');\n",
              "        docLink.innerHTML = docLinkHtml;\n",
              "        element.appendChild(docLink);\n",
              "      }\n",
              "    </script>\n",
              "  </div>\n",
              "\n",
              "\n",
              "<div id=\"df-f7321658-3586-4d19-a015-10ec590e6b1a\">\n",
              "  <button class=\"colab-df-quickchart\" onclick=\"quickchart('df-f7321658-3586-4d19-a015-10ec590e6b1a')\"\n",
              "            title=\"Suggest charts\"\n",
              "            style=\"display:none;\">\n",
              "\n",
              "<svg xmlns=\"http://www.w3.org/2000/svg\" height=\"24px\"viewBox=\"0 0 24 24\"\n",
              "     width=\"24px\">\n",
              "    <g>\n",
              "        <path d=\"M19 3H5c-1.1 0-2 .9-2 2v14c0 1.1.9 2 2 2h14c1.1 0 2-.9 2-2V5c0-1.1-.9-2-2-2zM9 17H7v-7h2v7zm4 0h-2V7h2v10zm4 0h-2v-4h2v4z\"/>\n",
              "    </g>\n",
              "</svg>\n",
              "  </button>\n",
              "\n",
              "<style>\n",
              "  .colab-df-quickchart {\n",
              "      --bg-color: #E8F0FE;\n",
              "      --fill-color: #1967D2;\n",
              "      --hover-bg-color: #E2EBFA;\n",
              "      --hover-fill-color: #174EA6;\n",
              "      --disabled-fill-color: #AAA;\n",
              "      --disabled-bg-color: #DDD;\n",
              "  }\n",
              "\n",
              "  [theme=dark] .colab-df-quickchart {\n",
              "      --bg-color: #3B4455;\n",
              "      --fill-color: #D2E3FC;\n",
              "      --hover-bg-color: #434B5C;\n",
              "      --hover-fill-color: #FFFFFF;\n",
              "      --disabled-bg-color: #3B4455;\n",
              "      --disabled-fill-color: #666;\n",
              "  }\n",
              "\n",
              "  .colab-df-quickchart {\n",
              "    background-color: var(--bg-color);\n",
              "    border: none;\n",
              "    border-radius: 50%;\n",
              "    cursor: pointer;\n",
              "    display: none;\n",
              "    fill: var(--fill-color);\n",
              "    height: 32px;\n",
              "    padding: 0;\n",
              "    width: 32px;\n",
              "  }\n",
              "\n",
              "  .colab-df-quickchart:hover {\n",
              "    background-color: var(--hover-bg-color);\n",
              "    box-shadow: 0 1px 2px rgba(60, 64, 67, 0.3), 0 1px 3px 1px rgba(60, 64, 67, 0.15);\n",
              "    fill: var(--button-hover-fill-color);\n",
              "  }\n",
              "\n",
              "  .colab-df-quickchart-complete:disabled,\n",
              "  .colab-df-quickchart-complete:disabled:hover {\n",
              "    background-color: var(--disabled-bg-color);\n",
              "    fill: var(--disabled-fill-color);\n",
              "    box-shadow: none;\n",
              "  }\n",
              "\n",
              "  .colab-df-spinner {\n",
              "    border: 2px solid var(--fill-color);\n",
              "    border-color: transparent;\n",
              "    border-bottom-color: var(--fill-color);\n",
              "    animation:\n",
              "      spin 1s steps(1) infinite;\n",
              "  }\n",
              "\n",
              "  @keyframes spin {\n",
              "    0% {\n",
              "      border-color: transparent;\n",
              "      border-bottom-color: var(--fill-color);\n",
              "      border-left-color: var(--fill-color);\n",
              "    }\n",
              "    20% {\n",
              "      border-color: transparent;\n",
              "      border-left-color: var(--fill-color);\n",
              "      border-top-color: var(--fill-color);\n",
              "    }\n",
              "    30% {\n",
              "      border-color: transparent;\n",
              "      border-left-color: var(--fill-color);\n",
              "      border-top-color: var(--fill-color);\n",
              "      border-right-color: var(--fill-color);\n",
              "    }\n",
              "    40% {\n",
              "      border-color: transparent;\n",
              "      border-right-color: var(--fill-color);\n",
              "      border-top-color: var(--fill-color);\n",
              "    }\n",
              "    60% {\n",
              "      border-color: transparent;\n",
              "      border-right-color: var(--fill-color);\n",
              "    }\n",
              "    80% {\n",
              "      border-color: transparent;\n",
              "      border-right-color: var(--fill-color);\n",
              "      border-bottom-color: var(--fill-color);\n",
              "    }\n",
              "    90% {\n",
              "      border-color: transparent;\n",
              "      border-bottom-color: var(--fill-color);\n",
              "    }\n",
              "  }\n",
              "</style>\n",
              "\n",
              "  <script>\n",
              "    async function quickchart(key) {\n",
              "      const quickchartButtonEl =\n",
              "        document.querySelector('#' + key + ' button');\n",
              "      quickchartButtonEl.disabled = true;  // To prevent multiple clicks.\n",
              "      quickchartButtonEl.classList.add('colab-df-spinner');\n",
              "      try {\n",
              "        const charts = await google.colab.kernel.invokeFunction(\n",
              "            'suggestCharts', [key], {});\n",
              "      } catch (error) {\n",
              "        console.error('Error during call to suggestCharts:', error);\n",
              "      }\n",
              "      quickchartButtonEl.classList.remove('colab-df-spinner');\n",
              "      quickchartButtonEl.classList.add('colab-df-quickchart-complete');\n",
              "    }\n",
              "    (() => {\n",
              "      let quickchartButtonEl =\n",
              "        document.querySelector('#df-f7321658-3586-4d19-a015-10ec590e6b1a button');\n",
              "      quickchartButtonEl.style.display =\n",
              "        google.colab.kernel.accessAllowed ? 'block' : 'none';\n",
              "    })();\n",
              "  </script>\n",
              "</div>\n",
              "\n",
              "    </div>\n",
              "  </div>\n"
            ],
            "application/vnd.google.colaboratory.intrinsic+json": {
              "type": "dataframe"
            }
          },
          "metadata": {},
          "execution_count": 32
        }
      ]
    },
    {
      "cell_type": "markdown",
      "source": [
        "# Check the column names"
      ],
      "metadata": {
        "id": "LzLkhwyMsF5O"
      }
    },
    {
      "cell_type": "code",
      "source": [
        "print(data.columns)"
      ],
      "metadata": {
        "colab": {
          "base_uri": "https://localhost:8080/"
        },
        "id": "jX8oqHZ3Zl-c",
        "outputId": "aa6bda8e-0a4c-4f56-ef74-995a633062f7"
      },
      "execution_count": null,
      "outputs": [
        {
          "output_type": "stream",
          "name": "stdout",
          "text": [
            "Index(['Country Name', 'Country Code', 'Indicator Name', 'Indicator Code',\n",
            "       '1960', '1961', '1962', '1963', '1964', '1965', '1966', '1967', '1968',\n",
            "       '1969', '1970', '1971', '1972', '1973', '1974', '1975', '1976', '1977',\n",
            "       '1978', '1979', '1980', '1981', '1982', '1983', '1984', '1985', '1986',\n",
            "       '1987', '1988', '1989', '1990', '1991', '1992', '1993', '1994', '1995',\n",
            "       '1996', '1997', '1998', '1999', '2000', '2001', '2002', '2003', '2004',\n",
            "       '2005', '2006', '2007', '2008', '2009', '2010', '2011', '2012', '2013',\n",
            "       '2014', '2015', '2016', '2017', '2018', '2019', '2020', '2021', '2022',\n",
            "       '2023', 'Unnamed: 68'],\n",
            "      dtype='object')\n"
          ]
        }
      ]
    },
    {
      "cell_type": "markdown",
      "source": [
        "# Check for missing values"
      ],
      "metadata": {
        "id": "DxcrXI1ovt3h"
      }
    },
    {
      "cell_type": "code",
      "source": [
        "print(data.isnull().sum())"
      ],
      "metadata": {
        "colab": {
          "base_uri": "https://localhost:8080/"
        },
        "id": "g8iXl6BZZoLB",
        "outputId": "ebf2715f-d54e-4907-9f2c-4348482c5b97"
      },
      "execution_count": null,
      "outputs": [
        {
          "output_type": "stream",
          "name": "stdout",
          "text": [
            "Country Name        0\n",
            "Country Code        0\n",
            "Indicator Name      0\n",
            "Indicator Code      0\n",
            "1960                2\n",
            "                 ... \n",
            "2020                1\n",
            "2021                1\n",
            "2022                1\n",
            "2023                1\n",
            "Unnamed: 68       266\n",
            "Length: 69, dtype: int64\n"
          ]
        }
      ]
    },
    {
      "cell_type": "markdown",
      "source": [
        "# Convert year columns to numeric"
      ],
      "metadata": {
        "id": "LwncdTLRsIaa"
      }
    },
    {
      "cell_type": "code",
      "source": [
        "year_columns = data.columns[4:]\n",
        "data[year_columns] = data[year_columns].apply(pd.to_numeric, errors='coerce')\n",
        "\n",
        "data[year_columns] = data[year_columns].interpolate(axis=1, method='linear')"
      ],
      "metadata": {
        "id": "wU05d6TCbUsH"
      },
      "execution_count": null,
      "outputs": []
    },
    {
      "cell_type": "markdown",
      "source": [
        "\n",
        "# Verify the result"
      ],
      "metadata": {
        "id": "8lTMzlgBsS0_"
      }
    },
    {
      "cell_type": "code",
      "source": [
        "print(data.head())"
      ],
      "metadata": {
        "id": "Fr2wSfagsXUo",
        "colab": {
          "base_uri": "https://localhost:8080/"
        },
        "outputId": "1c4b77a5-cecb-4fd9-f9b1-38ce9995bd5c"
      },
      "execution_count": null,
      "outputs": [
        {
          "output_type": "stream",
          "name": "stdout",
          "text": [
            "                  Country Name Country Code     Indicator Name Indicator Code  \\\n",
            "0                        Aruba          ABW  Population, total    SP.POP.TOTL   \n",
            "1  Africa Eastern and Southern          AFE  Population, total    SP.POP.TOTL   \n",
            "2                  Afghanistan          AFG  Population, total    SP.POP.TOTL   \n",
            "3   Africa Western and Central          AFW  Population, total    SP.POP.TOTL   \n",
            "4                       Angola          AGO  Population, total    SP.POP.TOTL   \n",
            "\n",
            "          1960         1961         1962         1963         1964  \\\n",
            "0      54922.0      55578.0      56320.0      57002.0      57619.0   \n",
            "1  130072080.0  133534923.0  137171659.0  140945536.0  144904094.0   \n",
            "2    9035043.0    9214083.0    9404406.0    9604487.0    9814318.0   \n",
            "3   97630925.0   99706674.0  101854756.0  104089175.0  106388440.0   \n",
            "4    5231654.0    5301583.0    5354310.0    5408320.0    5464187.0   \n",
            "\n",
            "          1965  ...         2015         2016         2017         2018  \\\n",
            "0      58190.0  ...     107906.0     108727.0     108735.0     108908.0   \n",
            "1  149033472.0  ...  607123269.0  623369401.0  640058741.0  657801085.0   \n",
            "2   10036008.0  ...   33831764.0   34700612.0   35688935.0   36743039.0   \n",
            "3  108772632.0  ...  418127845.0  429454743.0  440882906.0  452195915.0   \n",
            "4    5521981.0  ...   28157798.0   29183070.0   30234839.0   31297155.0   \n",
            "\n",
            "          2019         2020         2021         2022         2023  \\\n",
            "0     109203.0     108587.0     107700.0     107310.0     107359.0   \n",
            "1  675950189.0  694446100.0  713090928.0  731821393.0  750503764.0   \n",
            "2   37856121.0   39068979.0   40000412.0   40578842.0   41454761.0   \n",
            "3  463365429.0  474569351.0  485920997.0  497387180.0  509398589.0   \n",
            "4   32375632.0   33451132.0   34532429.0   35635029.0   36749906.0   \n",
            "\n",
            "   Unnamed: 68  \n",
            "0     107359.0  \n",
            "1  750503764.0  \n",
            "2   41454761.0  \n",
            "3  509398589.0  \n",
            "4   36749906.0  \n",
            "\n",
            "[5 rows x 69 columns]\n"
          ]
        }
      ]
    },
    {
      "cell_type": "markdown",
      "source": [
        "#Remove the columns that are not rerquires\n"
      ],
      "metadata": {
        "id": "BJvUecNcsjTq"
      }
    },
    {
      "cell_type": "code",
      "source": [
        "data = data.drop(columns=['Unnamed: 68'])"
      ],
      "metadata": {
        "id": "wyriIXNxZpKy"
      },
      "execution_count": null,
      "outputs": []
    },
    {
      "cell_type": "code",
      "source": [
        "data = data.rename(columns={'Country Name': 'Country', 'Country_Code': 'Code', 'Indicator Name': 'Indicator', 'Indicator Code': 'IndicatorCode'})"
      ],
      "metadata": {
        "id": "2lFM4M-HZ5od"
      },
      "execution_count": null,
      "outputs": []
    },
    {
      "cell_type": "markdown",
      "source": [
        "#Data of India"
      ],
      "metadata": {
        "id": "QpJ_4Umasxmv"
      }
    },
    {
      "cell_type": "code",
      "source": [
        "India_data = data[data['Country'] == 'India']\n",
        "print(India_data)"
      ],
      "metadata": {
        "colab": {
          "base_uri": "https://localhost:8080/"
        },
        "id": "AY3tvPXOaBPa",
        "outputId": "13b9636d-f799-41ba-96f7-cb455331e035"
      },
      "execution_count": null,
      "outputs": [
        {
          "output_type": "stream",
          "name": "stdout",
          "text": [
            "    Country Country Code          Indicator IndicatorCode         1960  \\\n",
            "109   India          IND  Population, total   SP.POP.TOTL  435990338.0   \n",
            "\n",
            "            1961         1962         1963         1964         1965  ...  \\\n",
            "109  446564729.0  457283090.0  468138575.0  479229598.0  490140146.0  ...   \n",
            "\n",
            "             2014          2015          2016          2017          2018  \\\n",
            "109  1.312277e+09  1.328024e+09  1.343944e+09  1.359657e+09  1.374659e+09   \n",
            "\n",
            "             2019          2020          2021          2022          2023  \n",
            "109  1.389030e+09  1.402618e+09  1.414204e+09  1.425423e+09  1.438070e+09  \n",
            "\n",
            "[1 rows x 68 columns]\n"
          ]
        }
      ]
    },
    {
      "cell_type": "markdown",
      "source": [
        "\n",
        "# Plot population over the years of India"
      ],
      "metadata": {
        "id": "cA_UsKJIs5t9"
      }
    },
    {
      "cell_type": "code",
      "source": [
        "India_data = data[data['Country'] == 'India']\n",
        "\n",
        "India_data.iloc[:, 4:].T.plot(kind='line', title='Population of India (1960-2023)')\n",
        "plt.xlabel('Year')\n",
        "plt.ylabel('Population')\n",
        "plt.show()"
      ],
      "metadata": {
        "colab": {
          "base_uri": "https://localhost:8080/",
          "height": 472
        },
        "id": "UOVNulcWaDtp",
        "outputId": "7805b9f3-e956-4bbd-e145-0bdf8b349561"
      },
      "execution_count": null,
      "outputs": [
        {
          "output_type": "display_data",
          "data": {
            "text/plain": [
              "<Figure size 640x480 with 1 Axes>"
            ],
            "image/png": "[encoded data removed]"
          },
          "metadata": {}
        }
      ]
    },
    {
      "cell_type": "markdown",
      "source": [
        "\n",
        "# Plot India's population distribution over time"
      ],
      "metadata": {
        "id": "24_CrtPBtFyx"
      }
    },
    {
      "cell_type": "code",
      "source": [
        "india_population = data[data[\"Country\"] == \"India\"].iloc[:, 4:-1]\n",
        "\n",
        "india_population = india_population.T\n",
        "india_population.columns = [\"Population\"]\n",
        "india_population.index = india_population.index.astype(int)\n",
        "plt.figure(figsize=(12, 6))\n",
        "plt.plot(india_population.index, india_population[\"Population\"], marker=\"o\", linestyle=\"-\", color=\"b\")\n",
        "\n",
        "plt.xlabel(\"Year\")\n",
        "plt.ylabel(\"Population\")\n",
        "plt.title(\"India's Population Growth (1960-2023)\")\n",
        "plt.grid(True)\n",
        "\n",
        "plt.show()"
      ],
      "metadata": {
        "colab": {
          "base_uri": "https://localhost:8080/",
          "height": 531
        },
        "id": "lOIUpgE0qgeH",
        "outputId": "8b6925c1-1613-4871-8277-f8df8c55ed8f"
      },
      "execution_count": null,
      "outputs": [
        {
          "output_type": "display_data",
          "data": {
            "text/plain": [
              "<Figure size 1200x600 with 1 Axes>"
            ],
            "image/png": "[encoded data removed]"
          },
          "metadata": {}
        }
      ]
    },
    {
      "cell_type": "markdown",
      "source": [
        "# Calculate global population for each year"
      ],
      "metadata": {
        "id": "eLPcxLfItIdT"
      }
    },
    {
      "cell_type": "code",
      "source": [
        "year_columns = data.columns[4:]\n",
        "\n",
        "global_population = data[year_columns].sum()\n",
        "\n",
        "print(global_population)"
      ],
      "metadata": {
        "colab": {
          "base_uri": "https://localhost:8080/"
        },
        "id": "meXZHzgwd6J6",
        "outputId": "9ab0c8a6-d8d8-4383-d56e-c69c83fcd221"
      },
      "execution_count": null,
      "outputs": [
        {
          "output_type": "stream",
          "name": "stdout",
          "text": [
            "1960    3.047826e+10\n",
            "1961    3.090219e+10\n",
            "1962    3.147304e+10\n",
            "1963    3.217838e+10\n",
            "1964    3.289005e+10\n",
            "            ...     \n",
            "2019    8.363612e+10\n",
            "2020    8.458895e+10\n",
            "2021    8.542396e+10\n",
            "2022    8.626373e+10\n",
            "2023    8.712897e+10\n",
            "Length: 64, dtype: float64\n"
          ]
        }
      ]
    },
    {
      "cell_type": "markdown",
      "source": [
        "\n",
        "# Create a line plot for global population trends"
      ],
      "metadata": {
        "id": "KDnzBRyetMxm"
      }
    },
    {
      "cell_type": "code",
      "source": [
        "plt.figure(figsize=(12, 6))\n",
        "plt.plot(global_population.index, global_population.values, marker='o', color='blue', linestyle='-')\n",
        "\n",
        "plt.title('Global Population Trends (1960-2023)', fontsize=16)\n",
        "plt.xlabel('Year', fontsize=14)\n",
        "plt.ylabel('Population', fontsize=14)\n",
        "plt.xticks(rotation=90)\n",
        "plt.grid(True)\n",
        "\n",
        "plt.show()"
      ],
      "metadata": {
        "colab": {
          "base_uri": "https://localhost:8080/"
        },
        "id": "BRRUunLNfF0Z",
        "outputId": "f58a2167-110b-474e-f26c-1bb7b7ed798b"
      },
      "execution_count": null,
      "outputs": [
        {
          "output_type": "display_data",
          "data": {
            "text/plain": [
              "<Figure size 1200x600 with 1 Axes>"
            ],
            "image/png": "[encoded data removed]"
          },
          "metadata": {}
        }
      ]
    },
    {
      "cell_type": "markdown",
      "source": [
        "# Extract population data for 2023"
      ],
      "metadata": {
        "id": "C6BiEn4ktTG2"
      }
    },
    {
      "cell_type": "markdown",
      "source": [
        "\n",
        "# Create a histogram"
      ],
      "metadata": {
        "id": "9wtOS5latWti"
      }
    },
    {
      "cell_type": "code",
      "source": [
        "population_2023 = data['2023']\n",
        "\n",
        "plt.figure(figsize=(10, 6))\n",
        "plt.hist(population_2023, bins=50, color='green', edgecolor='black')\n",
        "\n",
        "plt.title('Distribution of Population Across Countries (2023)', fontsize=16)\n",
        "plt.xlabel('Population', fontsize=14)\n",
        "plt.ylabel('Frequency', fontsize=14)\n",
        "\n",
        "plt.show()"
      ],
      "metadata": {
        "colab": {
          "base_uri": "https://localhost:8080/"
        },
        "id": "_KQ81sK_ff4-",
        "outputId": "d456b4de-d52f-4edb-c3bb-3bf8218f616b"
      },
      "execution_count": null,
      "outputs": [
        {
          "output_type": "display_data",
          "data": {
            "text/plain": [
              "<Figure size 1000x600 with 1 Axes>"
            ],
            "image/png": "[encoded data removed]"
          },
          "metadata": {}
        }
      ]
    },
    {
      "cell_type": "markdown",
      "source": [
        "# Create a box plot"
      ],
      "metadata": {
        "id": "X143a9k2tdzi"
      }
    },
    {
      "cell_type": "code",
      "source": [
        "plt.figure(figsize=(10, 6))\n",
        "plt.boxplot(population_2023.dropna(), vert=False, patch_artist=True, boxprops=dict(facecolor='lightblue'))\n",
        "\n",
        "plt.title('Population Distribution Across Countries (2023)', fontsize=16)\n",
        "plt.xlabel('Population', fontsize=14)\n",
        "\n",
        "plt.show()"
      ],
      "metadata": {
        "colab": {
          "base_uri": "https://localhost:8080/"
        },
        "id": "nW5d5UsGgZIq",
        "outputId": "6f2444cd-586f-4945-e953-5b281a472551"
      },
      "execution_count": null,
      "outputs": [
        {
          "output_type": "display_data",
          "data": {
            "text/plain": [
              "<Figure size 1000x600 with 1 Axes>"
            ],
            "image/png": "[encoded data removed]"
          },
          "metadata": {}
        }
      ]
    },
    {
      "cell_type": "markdown",
      "source": [
        "# Calculate summary statistics for 2023"
      ],
      "metadata": {
        "id": "wJYfk63PtiZ4"
      }
    },
    {
      "cell_type": "code",
      "source": [
        "summary_stats = {\n",
        "    'Mean Population': population_2023.mean(),\n",
        "    'Median Population': population_2023.median(),\n",
        "    'Minimum Population': population_2023.min(),\n",
        "    'Maximum Population': population_2023.max(),\n",
        "    'Standard Deviation': population_2023.std()\n",
        "}\n",
        "\n",
        "# Display summary statistics\n",
        "for key, value in summary_stats.items():\n",
        "    print(f\"{key}: {value}\")"
      ],
      "metadata": {
        "colab": {
          "base_uri": "https://localhost:8080/"
        },
        "id": "yXacjSCGkESn",
        "outputId": "6d201d93-b1a7-4908-a72b-93787b77381d"
      },
      "execution_count": null,
      "outputs": [
        {
          "output_type": "stream",
          "name": "stdout",
          "text": [
            "Mean Population: 328788572.05283016\n",
            "Median Population: 10644851.0\n",
            "Minimum Population: 9816.0\n",
            "Maximum Population: 8061876001.0\n",
            "Standard Deviation: 1018589498.494913\n"
          ]
        }
      ]
    },
    {
      "cell_type": "markdown",
      "source": [
        "# Sort by population in descending order and get top 10"
      ],
      "metadata": {
        "id": "-9sC0eSWtleD"
      }
    },
    {
      "cell_type": "code",
      "source": [
        "top_10_countries = data[['Country', '2023']].sort_values(by='2023', ascending=False).head(10)\n",
        "\n",
        "# Display top 10 countries\n",
        "print(\"Top 10 Countries by Population (2023):\")\n",
        "print(top_10_countries)"
      ],
      "metadata": {
        "colab": {
          "base_uri": "https://localhost:8080/"
        },
        "id": "C8bWann1kIx-",
        "outputId": "9a4d7b43-636d-4434-c05d-9177f9ce556c"
      },
      "execution_count": null,
      "outputs": [
        {
          "output_type": "stream",
          "name": "stdout",
          "text": [
            "Top 10 Countries by Population (2023):\n",
            "                        Country          2023\n",
            "259                       World  8.061876e+09\n",
            "103            IDA & IBRD total  6.858957e+09\n",
            "140         Low & middle income  6.633110e+09\n",
            "156               Middle income  5.896643e+09\n",
            "102                   IBRD only  4.952574e+09\n",
            "62   Early-demographic dividend  3.511077e+09\n",
            "139         Lower middle income  3.079779e+09\n",
            "249         Upper middle income  2.816864e+09\n",
            "63          East Asia & Pacific  2.384464e+09\n",
            "142   Late-demographic dividend  2.326658e+09\n"
          ]
        }
      ]
    },
    {
      "cell_type": "markdown",
      "source": [
        "# Sort by population in ascending order and get bottom 10"
      ],
      "metadata": {
        "id": "_FYHHT-ftnt_"
      }
    },
    {
      "cell_type": "code",
      "source": [
        "bottom_10_countries = data[['Country', '2023']].sort_values(by='2023', ascending=True).head(10)\n",
        "\n",
        "# Display bottom 10 countries\n",
        "print(\"Bottom 10 Countries by Population (2023):\")\n",
        "print(bottom_10_countries)"
      ],
      "metadata": {
        "colab": {
          "base_uri": "https://localhost:8080/"
        },
        "id": "J07WruPWkN7-",
        "outputId": "570e3d57-77ff-414e-d254-34f75eb51576"
      },
      "execution_count": null,
      "outputs": [
        {
          "output_type": "stream",
          "name": "stdout",
          "text": [
            "Bottom 10 Countries by Population (2023):\n",
            "                      Country     2023\n",
            "245                    Tuvalu   9816.0\n",
            "179                     Nauru  11875.0\n",
            "188                     Palau  17727.0\n",
            "147  St. Martin (French part)  27515.0\n",
            "212                San Marino  33860.0\n",
            "84                  Gibraltar  38471.0\n",
            "155          Marshall Islands  38827.0\n",
            "149                    Monaco  38956.0\n",
            "255    British Virgin Islands  38985.0\n",
            "137             Liechtenstein  39850.0\n"
          ]
        }
      ]
    },
    {
      "cell_type": "markdown",
      "source": [
        "# Create a bar chart for top 10 countries"
      ],
      "metadata": {
        "id": "wcr9p3PXtpqp"
      }
    },
    {
      "cell_type": "code",
      "source": [
        "plt.figure(figsize=(12, 6))\n",
        "plt.barh(top_10_countries['Country'], top_10_countries['2023'], color='blue')\n",
        "\n",
        "plt.title('Top 10 Countries by Population (2023)', fontsize=16)\n",
        "plt.xlabel('Population', fontsize=14)\n",
        "plt.ylabel('Country', fontsize=14)\n",
        "\n",
        "plt.show()"
      ],
      "metadata": {
        "colab": {
          "base_uri": "https://localhost:8080/"
        },
        "id": "msgeiim3kYKB",
        "outputId": "7a202ba8-a807-4bd8-e5f0-aa35f0e8a8e2"
      },
      "execution_count": null,
      "outputs": [
        {
          "output_type": "display_data",
          "data": {
            "text/plain": [
              "<Figure size 1200x600 with 1 Axes>"
            ],
            "image/png": "[encoded data removed]"
          },
          "metadata": {}
        }
      ]
    },
    {
      "cell_type": "markdown",
      "source": [
        "# Create a bar chart for bottom 10 countries"
      ],
      "metadata": {
        "id": "6lo2LA8nttl_"
      }
    },
    {
      "cell_type": "code",
      "source": [
        "plt.figure(figsize=(12, 6))\n",
        "plt.barh(bottom_10_countries['Country'], bottom_10_countries['2023'], color='orange')\n",
        "\n",
        "plt.title('Bottom 10 Countries by Population (2023)', fontsize=16)\n",
        "plt.xlabel('Population', fontsize=14)\n",
        "plt.ylabel('Country', fontsize=14)\n",
        "\n",
        "plt.show()"
      ],
      "metadata": {
        "colab": {
          "base_uri": "https://localhost:8080/"
        },
        "id": "XLD3v3PBke7L",
        "outputId": "0a15b36e-4def-47ba-f61e-33ee42472a33"
      },
      "execution_count": null,
      "outputs": [
        {
          "output_type": "display_data",
          "data": {
            "text/plain": [
              "<Figure size 1200x600 with 1 Axes>"
            ],
            "image/png": "[encoded data removed]"
          },
          "metadata": {}
        }
      ]
    },
    {
      "cell_type": "markdown",
      "source": [
        "# Calculate annual growth rate"
      ],
      "metadata": {
        "id": "tlhywjBAtyMD"
      }
    },
    {
      "cell_type": "code",
      "source": [
        "growth_rates = global_population.pct_change() * 100\n",
        "\n",
        "plt.figure(figsize=(12, 6))\n",
        "plt.plot(growth_rates.index, growth_rates.values, marker='o', color='red', linestyle='-')\n",
        "\n",
        "plt.title('Global Population Growth Rate (1961-2023)', fontsize=16)\n",
        "plt.xlabel('Year', fontsize=14)\n",
        "plt.ylabel('Growth Rate (%)', fontsize=14)\n",
        "plt.xticks(rotation=90)\n",
        "plt.grid(True)\n",
        "\n",
        "plt.show()"
      ],
      "metadata": {
        "colab": {
          "base_uri": "https://localhost:8080/"
        },
        "id": "nXb5k8DzkoY-",
        "outputId": "00557eac-8bfe-4743-9285-5333cd69ca07"
      },
      "execution_count": null,
      "outputs": [
        {
          "output_type": "display_data",
          "data": {
            "text/plain": [
              "<Figure size 1200x600 with 1 Axes>"
            ],
            "image/png": "[encoded data removed]"
          },
          "metadata": {}
        }
      ]
    },
    {
      "cell_type": "markdown",
      "source": [
        "#________________________________    THE END    ___________________________________"
      ],
      "metadata": {
        "id": "hC-QAto4t3rR"
      }
    }
  ]
}