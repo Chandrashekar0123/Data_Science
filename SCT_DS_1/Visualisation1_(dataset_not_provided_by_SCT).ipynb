{
  "nbformat": 4,
  "nbformat_minor": 0,
  "metadata": {
    "colab": {
      "provenance": []
    },
    "kernelspec": {
      "name": "python3",
      "display_name": "Python 3"
    },
    "language_info": {
      "name": "python"
    }
  },
  "cells": [
    {
      "cell_type": "markdown",
      "source": [
        "##Create a bar chat or histogram to visualise the distribution of categorical or contiguous variablessuch as distribution of age and gender in th e population"
      ],
      "metadata": {
        "id": "31m4wkN5rlXo"
      }
    },
    {
      "cell_type": "markdown",
      "source": [
        "To visualize the distribution of the given categorical and continuous variables, we can create bar charts for features like \"Gender identity (4 categories)\", \"Age (8 categories)\", and \"Sex (2 categories)\" to show the frequency of each category within the population. For geographical distribution, a bar chart for \"Lower tier local authorities\" can help reveal the concentration of data points across different regions. If the \"Observation\" feature is categorical, a bar chart would be effective, while a histogram could be used if it is continuous. These visualizations would provide insights into demographic trends such as age, gender, sex, and regional distribution in the population."
      ],
      "metadata": {
        "id": "EGrgcjnhrj-C"
      }
    },
    {
      "cell_type": "markdown",
      "source": [
        "#Import the necessary Libraries"
      ],
      "metadata": {
        "id": "deQbCrI7rxtl"
      }
    },
    {
      "cell_type": "code",
      "execution_count": null,
      "metadata": {
        "id": "Fx8NDfc1hC9M"
      },
      "outputs": [],
      "source": [
        " import numpy as np\n",
        " import pandas as pd\n",
        " import matplotlib.pyplot as plt\n",
        " import seaborn as sns"
      ]
    },
    {
      "cell_type": "markdown",
      "source": [
        "#Load the data"
      ],
      "metadata": {
        "id": "B7Vk-xGwr4S1"
      }
    },
    {
      "cell_type": "code",
      "source": [
        "data = pd.read_csv('/content/RM163-2021-1 (1).csv')"
      ],
      "metadata": {
        "id": "x2SMcSZVYS-4"
      },
      "execution_count": null,
      "outputs": []
    },
    {
      "cell_type": "markdown",
      "source": [
        "#Read the data"
      ],
      "metadata": {
        "id": "SES-YApSr9bN"
      }
    },
    {
      "cell_type": "code",
      "source": [
        "data"
      ],
      "metadata": {
        "colab": {
          "base_uri": "https://localhost:8080/",
          "height": 738
        },
        "id": "H5R9dOnGYgX8",
        "outputId": "cc2afa21-e4e8-4b71-dd22-6a8ae6e9a363"
      },
      "execution_count": null,
      "outputs": [
        {
          "output_type": "execute_result",
          "data": {
            "text/plain": [
              "      Lower tier local authorities Code Lower tier local authorities  \\\n",
              "0                             E06000001                   Hartlepool   \n",
              "1                             E06000001                   Hartlepool   \n",
              "2                             E06000001                   Hartlepool   \n",
              "3                             E06000001                   Hartlepool   \n",
              "4                             E06000001                   Hartlepool   \n",
              "...                                 ...                          ...   \n",
              "21179                         W06000024               Merthyr Tydfil   \n",
              "21180                         W06000024               Merthyr Tydfil   \n",
              "21181                         W06000024               Merthyr Tydfil   \n",
              "21182                         W06000024               Merthyr Tydfil   \n",
              "21183                         W06000024               Merthyr Tydfil   \n",
              "\n",
              "       Gender identity (4 categories) Code Gender identity (4 categories)  \\\n",
              "0                                       -8                 Does not apply   \n",
              "1                                       -8                 Does not apply   \n",
              "2                                       -8                 Does not apply   \n",
              "3                                       -8                 Does not apply   \n",
              "4                                       -8                 Does not apply   \n",
              "...                                    ...                            ...   \n",
              "21179                                    3                   Not answered   \n",
              "21180                                    3                   Not answered   \n",
              "21181                                    3                   Not answered   \n",
              "21182                                    3                   Not answered   \n",
              "21183                                    3                   Not answered   \n",
              "\n",
              "       Age (D) (8 categories) Code   Age (D) (8 categories)  \\\n",
              "0                                1  Aged 15 years and under   \n",
              "1                                1  Aged 15 years and under   \n",
              "2                                2      Aged 16 to 24 years   \n",
              "3                                2      Aged 16 to 24 years   \n",
              "4                                3      Aged 25 to 34 years   \n",
              "...                            ...                      ...   \n",
              "21179                            6      Aged 55 to 64 years   \n",
              "21180                            7      Aged 65 to 74 years   \n",
              "21181                            7      Aged 65 to 74 years   \n",
              "21182                            8   Aged 75 years and over   \n",
              "21183                            8   Aged 75 years and over   \n",
              "\n",
              "       Sex (2 categories) Code Sex (2 categories)  Observation  \n",
              "0                            1             Female            0  \n",
              "1                            2               Male            0  \n",
              "2                            1             Female            0  \n",
              "3                            2               Male            0  \n",
              "4                            1             Female            0  \n",
              "...                        ...                ...          ...  \n",
              "21179                        2               Male          215  \n",
              "21180                        1             Female          229  \n",
              "21181                        2               Male          189  \n",
              "21182                        1             Female          295  \n",
              "21183                        2               Male          213  \n",
              "\n",
              "[21184 rows x 9 columns]"
            ],
            "text/html": [
              "\n",
              "  <div id=\"df-f2e20a16-2a2e-41d8-ab00-5855e15b03e4\" class=\"colab-df-container\">\n",
              "    <div>\n",
              "<style scoped>\n",
              "    .dataframe tbody tr th:only-of-type {\n",
              "        vertical-align: middle;\n",
              "    }\n",
              "\n",
              "    .dataframe tbody tr th {\n",
              "        vertical-align: top;\n",
              "    }\n",
              "\n",
              "    .dataframe thead th {\n",
              "        text-align: right;\n",
              "    }\n",
              "</style>\n",
              "<table border=\"1\" class=\"dataframe\">\n",
              "  <thead>\n",
              "    <tr style=\"text-align: right;\">\n",
              "      <th></th>\n",
              "      <th>Lower tier local authorities Code</th>\n",
              "      <th>Lower tier local authorities</th>\n",
              "      <th>Gender identity (4 categories) Code</th>\n",
              "      <th>Gender identity (4 categories)</th>\n",
              "      <th>Age (D) (8 categories) Code</th>\n",
              "      <th>Age (D) (8 categories)</th>\n",
              "      <th>Sex (2 categories) Code</th>\n",
              "      <th>Sex (2 categories)</th>\n",
              "      <th>Observation</th>\n",
              "    </tr>\n",
              "  </thead>\n",
              "  <tbody>\n",
              "    <tr>\n",
              "      <th>0</th>\n",
              "      <td>E06000001</td>\n",
              "      <td>Hartlepool</td>\n",
              "      <td>-8</td>\n",
              "      <td>Does not apply</td>\n",
              "      <td>1</td>\n",
              "      <td>Aged 15 years and under</td>\n",
              "      <td>1</td>\n",
              "      <td>Female</td>\n",
              "      <td>0</td>\n",
              "    </tr>\n",
              "    <tr>\n",
              "      <th>1</th>\n",
              "      <td>E06000001</td>\n",
              "      <td>Hartlepool</td>\n",
              "      <td>-8</td>\n",
              "      <td>Does not apply</td>\n",
              "      <td>1</td>\n",
              "      <td>Aged 15 years and under</td>\n",
              "      <td>2</td>\n",
              "      <td>Male</td>\n",
              "      <td>0</td>\n",
              "    </tr>\n",
              "    <tr>\n",
              "      <th>2</th>\n",
              "      <td>E06000001</td>\n",
              "      <td>Hartlepool</td>\n",
              "      <td>-8</td>\n",
              "      <td>Does not apply</td>\n",
              "      <td>2</td>\n",
              "      <td>Aged 16 to 24 years</td>\n",
              "      <td>1</td>\n",
              "      <td>Female</td>\n",
              "      <td>0</td>\n",
              "    </tr>\n",
              "    <tr>\n",
              "      <th>3</th>\n",
              "      <td>E06000001</td>\n",
              "      <td>Hartlepool</td>\n",
              "      <td>-8</td>\n",
              "      <td>Does not apply</td>\n",
              "      <td>2</td>\n",
              "      <td>Aged 16 to 24 years</td>\n",
              "      <td>2</td>\n",
              "      <td>Male</td>\n",
              "      <td>0</td>\n",
              "    </tr>\n",
              "    <tr>\n",
              "      <th>4</th>\n",
              "      <td>E06000001</td>\n",
              "      <td>Hartlepool</td>\n",
              "      <td>-8</td>\n",
              "      <td>Does not apply</td>\n",
              "      <td>3</td>\n",
              "      <td>Aged 25 to 34 years</td>\n",
              "      <td>1</td>\n",
              "      <td>Female</td>\n",
              "      <td>0</td>\n",
              "    </tr>\n",
              "    <tr>\n",
              "      <th>...</th>\n",
              "      <td>...</td>\n",
              "      <td>...</td>\n",
              "      <td>...</td>\n",
              "      <td>...</td>\n",
              "      <td>...</td>\n",
              "      <td>...</td>\n",
              "      <td>...</td>\n",
              "      <td>...</td>\n",
              "      <td>...</td>\n",
              "    </tr>\n",
              "    <tr>\n",
              "      <th>21179</th>\n",
              "      <td>W06000024</td>\n",
              "      <td>Merthyr Tydfil</td>\n",
              "      <td>3</td>\n",
              "      <td>Not answered</td>\n",
              "      <td>6</td>\n",
              "      <td>Aged 55 to 64 years</td>\n",
              "      <td>2</td>\n",
              "      <td>Male</td>\n",
              "      <td>215</td>\n",
              "    </tr>\n",
              "    <tr>\n",
              "      <th>21180</th>\n",
              "      <td>W06000024</td>\n",
              "      <td>Merthyr Tydfil</td>\n",
              "      <td>3</td>\n",
              "      <td>Not answered</td>\n",
              "      <td>7</td>\n",
              "      <td>Aged 65 to 74 years</td>\n",
              "      <td>1</td>\n",
              "      <td>Female</td>\n",
              "      <td>229</td>\n",
              "    </tr>\n",
              "    <tr>\n",
              "      <th>21181</th>\n",
              "      <td>W06000024</td>\n",
              "      <td>Merthyr Tydfil</td>\n",
              "      <td>3</td>\n",
              "      <td>Not answered</td>\n",
              "      <td>7</td>\n",
              "      <td>Aged 65 to 74 years</td>\n",
              "      <td>2</td>\n",
              "      <td>Male</td>\n",
              "      <td>189</td>\n",
              "    </tr>\n",
              "    <tr>\n",
              "      <th>21182</th>\n",
              "      <td>W06000024</td>\n",
              "      <td>Merthyr Tydfil</td>\n",
              "      <td>3</td>\n",
              "      <td>Not answered</td>\n",
              "      <td>8</td>\n",
              "      <td>Aged 75 years and over</td>\n",
              "      <td>1</td>\n",
              "      <td>Female</td>\n",
              "      <td>295</td>\n",
              "    </tr>\n",
              "    <tr>\n",
              "      <th>21183</th>\n",
              "      <td>W06000024</td>\n",
              "      <td>Merthyr Tydfil</td>\n",
              "      <td>3</td>\n",
              "      <td>Not answered</td>\n",
              "      <td>8</td>\n",
              "      <td>Aged 75 years and over</td>\n",
              "      <td>2</td>\n",
              "      <td>Male</td>\n",
              "      <td>213</td>\n",
              "    </tr>\n",
              "  </tbody>\n",
              "</table>\n",
              "<p>21184 rows × 9 columns</p>\n",
              "</div>\n",
              "    <div class=\"colab-df-buttons\">\n",
              "\n",
              "  <div class=\"colab-df-container\">\n",
              "    <button class=\"colab-df-convert\" onclick=\"convertToInteractive('df-f2e20a16-2a2e-41d8-ab00-5855e15b03e4')\"\n",
              "            title=\"Convert this dataframe to an interactive table.\"\n",
              "            style=\"display:none;\">\n",
              "\n",
              "  <svg xmlns=\"http://www.w3.org/2000/svg\" height=\"24px\" viewBox=\"0 -960 960 960\">\n",
              "    <path d=\"M120-120v-720h720v720H120Zm60-500h600v-160H180v160Zm220 220h160v-160H400v160Zm0 220h160v-160H400v160ZM180-400h160v-160H180v160Zm440 0h160v-160H620v160ZM180-180h160v-160H180v160Zm440 0h160v-160H620v160Z\"/>\n",
              "  </svg>\n",
              "    </button>\n",
              "\n",
              "  <style>\n",
              "    .colab-df-container {\n",
              "      display:flex;\n",
              "      gap: 12px;\n",
              "    }\n",
              "\n",
              "    .colab-df-convert {\n",
              "      background-color: #E8F0FE;\n",
              "      border: none;\n",
              "      border-radius: 50%;\n",
              "      cursor: pointer;\n",
              "      display: none;\n",
              "      fill: #1967D2;\n",
              "      height: 32px;\n",
              "      padding: 0 0 0 0;\n",
              "      width: 32px;\n",
              "    }\n",
              "\n",
              "    .colab-df-convert:hover {\n",
              "      background-color: #E2EBFA;\n",
              "      box-shadow: 0px 1px 2px rgba(60, 64, 67, 0.3), 0px 1px 3px 1px rgba(60, 64, 67, 0.15);\n",
              "      fill: #174EA6;\n",
              "    }\n",
              "\n",
              "    .colab-df-buttons div {\n",
              "      margin-bottom: 4px;\n",
              "    }\n",
              "\n",
              "    [theme=dark] .colab-df-convert {\n",
              "      background-color: #3B4455;\n",
              "      fill: #D2E3FC;\n",
              "    }\n",
              "\n",
              "    [theme=dark] .colab-df-convert:hover {\n",
              "      background-color: #434B5C;\n",
              "      box-shadow: 0px 1px 3px 1px rgba(0, 0, 0, 0.15);\n",
              "      filter: drop-shadow(0px 1px 2px rgba(0, 0, 0, 0.3));\n",
              "      fill: #FFFFFF;\n",
              "    }\n",
              "  </style>\n",
              "\n",
              "    <script>\n",
              "      const buttonEl =\n",
              "        document.querySelector('#df-f2e20a16-2a2e-41d8-ab00-5855e15b03e4 button.colab-df-convert');\n",
              "      buttonEl.style.display =\n",
              "        google.colab.kernel.accessAllowed ? 'block' : 'none';\n",
              "\n",
              "      async function convertToInteractive(key) {\n",
              "        const element = document.querySelector('#df-f2e20a16-2a2e-41d8-ab00-5855e15b03e4');\n",
              "        const dataTable =\n",
              "          await google.colab.kernel.invokeFunction('convertToInteractive',\n",
              "                                                    [key], {});\n",
              "        if (!dataTable) return;\n",
              "\n",
              "        const docLinkHtml = 'Like what you see? Visit the ' +\n",
              "          '<a target=\"_blank\" href=https://colab.research.google.com/notebooks/data_table.ipynb>data table notebook</a>'\n",
              "          + ' to learn more about interactive tables.';\n",
              "        element.innerHTML = '';\n",
              "        dataTable['output_type'] = 'display_data';\n",
              "        await google.colab.output.renderOutput(dataTable, element);\n",
              "        const docLink = document.createElement('div');\n",
              "        docLink.innerHTML = docLinkHtml;\n",
              "        element.appendChild(docLink);\n",
              "      }\n",
              "    </script>\n",
              "  </div>\n",
              "\n",
              "\n",
              "<div id=\"df-9995bb1b-5bc7-4d00-a4e2-0f69690d39db\">\n",
              "  <button class=\"colab-df-quickchart\" onclick=\"quickchart('df-9995bb1b-5bc7-4d00-a4e2-0f69690d39db')\"\n",
              "            title=\"Suggest charts\"\n",
              "            style=\"display:none;\">\n",
              "\n",
              "<svg xmlns=\"http://www.w3.org/2000/svg\" height=\"24px\"viewBox=\"0 0 24 24\"\n",
              "     width=\"24px\">\n",
              "    <g>\n",
              "        <path d=\"M19 3H5c-1.1 0-2 .9-2 2v14c0 1.1.9 2 2 2h14c1.1 0 2-.9 2-2V5c0-1.1-.9-2-2-2zM9 17H7v-7h2v7zm4 0h-2V7h2v10zm4 0h-2v-4h2v4z\"/>\n",
              "    </g>\n",
              "</svg>\n",
              "  </button>\n",
              "\n",
              "<style>\n",
              "  .colab-df-quickchart {\n",
              "      --bg-color: #E8F0FE;\n",
              "      --fill-color: #1967D2;\n",
              "      --hover-bg-color: #E2EBFA;\n",
              "      --hover-fill-color: #174EA6;\n",
              "      --disabled-fill-color: #AAA;\n",
              "      --disabled-bg-color: #DDD;\n",
              "  }\n",
              "\n",
              "  [theme=dark] .colab-df-quickchart {\n",
              "      --bg-color: #3B4455;\n",
              "      --fill-color: #D2E3FC;\n",
              "      --hover-bg-color: #434B5C;\n",
              "      --hover-fill-color: #FFFFFF;\n",
              "      --disabled-bg-color: #3B4455;\n",
              "      --disabled-fill-color: #666;\n",
              "  }\n",
              "\n",
              "  .colab-df-quickchart {\n",
              "    background-color: var(--bg-color);\n",
              "    border: none;\n",
              "    border-radius: 50%;\n",
              "    cursor: pointer;\n",
              "    display: none;\n",
              "    fill: var(--fill-color);\n",
              "    height: 32px;\n",
              "    padding: 0;\n",
              "    width: 32px;\n",
              "  }\n",
              "\n",
              "  .colab-df-quickchart:hover {\n",
              "    background-color: var(--hover-bg-color);\n",
              "    box-shadow: 0 1px 2px rgba(60, 64, 67, 0.3), 0 1px 3px 1px rgba(60, 64, 67, 0.15);\n",
              "    fill: var(--button-hover-fill-color);\n",
              "  }\n",
              "\n",
              "  .colab-df-quickchart-complete:disabled,\n",
              "  .colab-df-quickchart-complete:disabled:hover {\n",
              "    background-color: var(--disabled-bg-color);\n",
              "    fill: var(--disabled-fill-color);\n",
              "    box-shadow: none;\n",
              "  }\n",
              "\n",
              "  .colab-df-spinner {\n",
              "    border: 2px solid var(--fill-color);\n",
              "    border-color: transparent;\n",
              "    border-bottom-color: var(--fill-color);\n",
              "    animation:\n",
              "      spin 1s steps(1) infinite;\n",
              "  }\n",
              "\n",
              "  @keyframes spin {\n",
              "    0% {\n",
              "      border-color: transparent;\n",
              "      border-bottom-color: var(--fill-color);\n",
              "      border-left-color: var(--fill-color);\n",
              "    }\n",
              "    20% {\n",
              "      border-color: transparent;\n",
              "      border-left-color: var(--fill-color);\n",
              "      border-top-color: var(--fill-color);\n",
              "    }\n",
              "    30% {\n",
              "      border-color: transparent;\n",
              "      border-left-color: var(--fill-color);\n",
              "      border-top-color: var(--fill-color);\n",
              "      border-right-color: var(--fill-color);\n",
              "    }\n",
              "    40% {\n",
              "      border-color: transparent;\n",
              "      border-right-color: var(--fill-color);\n",
              "      border-top-color: var(--fill-color);\n",
              "    }\n",
              "    60% {\n",
              "      border-color: transparent;\n",
              "      border-right-color: var(--fill-color);\n",
              "    }\n",
              "    80% {\n",
              "      border-color: transparent;\n",
              "      border-right-color: var(--fill-color);\n",
              "      border-bottom-color: var(--fill-color);\n",
              "    }\n",
              "    90% {\n",
              "      border-color: transparent;\n",
              "      border-bottom-color: var(--fill-color);\n",
              "    }\n",
              "  }\n",
              "</style>\n",
              "\n",
              "  <script>\n",
              "    async function quickchart(key) {\n",
              "      const quickchartButtonEl =\n",
              "        document.querySelector('#' + key + ' button');\n",
              "      quickchartButtonEl.disabled = true;  // To prevent multiple clicks.\n",
              "      quickchartButtonEl.classList.add('colab-df-spinner');\n",
              "      try {\n",
              "        const charts = await google.colab.kernel.invokeFunction(\n",
              "            'suggestCharts', [key], {});\n",
              "      } catch (error) {\n",
              "        console.error('Error during call to suggestCharts:', error);\n",
              "      }\n",
              "      quickchartButtonEl.classList.remove('colab-df-spinner');\n",
              "      quickchartButtonEl.classList.add('colab-df-quickchart-complete');\n",
              "    }\n",
              "    (() => {\n",
              "      let quickchartButtonEl =\n",
              "        document.querySelector('#df-9995bb1b-5bc7-4d00-a4e2-0f69690d39db button');\n",
              "      quickchartButtonEl.style.display =\n",
              "        google.colab.kernel.accessAllowed ? 'block' : 'none';\n",
              "    })();\n",
              "  </script>\n",
              "</div>\n",
              "\n",
              "  <div id=\"id_801db875-dfaf-424a-aa14-f3765cd2065f\">\n",
              "    <style>\n",
              "      .colab-df-generate {\n",
              "        background-color: #E8F0FE;\n",
              "        border: none;\n",
              "        border-radius: 50%;\n",
              "        cursor: pointer;\n",
              "        display: none;\n",
              "        fill: #1967D2;\n",
              "        height: 32px;\n",
              "        padding: 0 0 0 0;\n",
              "        width: 32px;\n",
              "      }\n",
              "\n",
              "      .colab-df-generate:hover {\n",
              "        background-color: #E2EBFA;\n",
              "        box-shadow: 0px 1px 2px rgba(60, 64, 67, 0.3), 0px 1px 3px 1px rgba(60, 64, 67, 0.15);\n",
              "        fill: #174EA6;\n",
              "      }\n",
              "\n",
              "      [theme=dark] .colab-df-generate {\n",
              "        background-color: #3B4455;\n",
              "        fill: #D2E3FC;\n",
              "      }\n",
              "\n",
              "      [theme=dark] .colab-df-generate:hover {\n",
              "        background-color: #434B5C;\n",
              "        box-shadow: 0px 1px 3px 1px rgba(0, 0, 0, 0.15);\n",
              "        filter: drop-shadow(0px 1px 2px rgba(0, 0, 0, 0.3));\n",
              "        fill: #FFFFFF;\n",
              "      }\n",
              "    </style>\n",
              "    <button class=\"colab-df-generate\" onclick=\"generateWithVariable('data')\"\n",
              "            title=\"Generate code using this dataframe.\"\n",
              "            style=\"display:none;\">\n",
              "\n",
              "  <svg xmlns=\"http://www.w3.org/2000/svg\" height=\"24px\"viewBox=\"0 0 24 24\"\n",
              "       width=\"24px\">\n",
              "    <path d=\"M7,19H8.4L18.45,9,17,7.55,7,17.6ZM5,21V16.75L18.45,3.32a2,2,0,0,1,2.83,0l1.4,1.43a1.91,1.91,0,0,1,.58,1.4,1.91,1.91,0,0,1-.58,1.4L9.25,21ZM18.45,9,17,7.55Zm-12,3A5.31,5.31,0,0,0,4.9,8.1,5.31,5.31,0,0,0,1,6.5,5.31,5.31,0,0,0,4.9,4.9,5.31,5.31,0,0,0,6.5,1,5.31,5.31,0,0,0,8.1,4.9,5.31,5.31,0,0,0,12,6.5,5.46,5.46,0,0,0,6.5,12Z\"/>\n",
              "  </svg>\n",
              "    </button>\n",
              "    <script>\n",
              "      (() => {\n",
              "      const buttonEl =\n",
              "        document.querySelector('#id_801db875-dfaf-424a-aa14-f3765cd2065f button.colab-df-generate');\n",
              "      buttonEl.style.display =\n",
              "        google.colab.kernel.accessAllowed ? 'block' : 'none';\n",
              "\n",
              "      buttonEl.onclick = () => {\n",
              "        google.colab.notebook.generateWithVariable('data');\n",
              "      }\n",
              "      })();\n",
              "    </script>\n",
              "  </div>\n",
              "\n",
              "    </div>\n",
              "  </div>\n"
            ],
            "application/vnd.google.colaboratory.intrinsic+json": {
              "type": "dataframe",
              "variable_name": "data",
              "summary": "{\n  \"name\": \"data\",\n  \"rows\": 21184,\n  \"fields\": [\n    {\n      \"column\": \"Lower tier local authorities Code\",\n      \"properties\": {\n        \"dtype\": \"category\",\n        \"num_unique_values\": 331,\n        \"samples\": [\n          \"E06000026\",\n          \"E09000032\",\n          \"E07000035\"\n        ],\n        \"semantic_type\": \"\",\n        \"description\": \"\"\n      }\n    },\n    {\n      \"column\": \"Lower tier local authorities\",\n      \"properties\": {\n        \"dtype\": \"category\",\n        \"num_unique_values\": 331,\n        \"samples\": [\n          \"Plymouth\",\n          \"Wandsworth\",\n          \"Derbyshire Dales\"\n        ],\n        \"semantic_type\": \"\",\n        \"description\": \"\"\n      }\n    },\n    {\n      \"column\": \"Gender identity (4 categories) Code\",\n      \"properties\": {\n        \"dtype\": \"number\",\n        \"std\": 4,\n        \"min\": -8,\n        \"max\": 3,\n        \"num_unique_values\": 4,\n        \"samples\": [\n          1,\n          3,\n          -8\n        ],\n        \"semantic_type\": \"\",\n        \"description\": \"\"\n      }\n    },\n    {\n      \"column\": \"Gender identity (4 categories)\",\n      \"properties\": {\n        \"dtype\": \"category\",\n        \"num_unique_values\": 4,\n        \"samples\": [\n          \"Gender identity the same as sex registered at birth\",\n          \"Not answered\",\n          \"Does not apply\"\n        ],\n        \"semantic_type\": \"\",\n        \"description\": \"\"\n      }\n    },\n    {\n      \"column\": \"Age (D) (8 categories) Code\",\n      \"properties\": {\n        \"dtype\": \"number\",\n        \"std\": 2,\n        \"min\": 1,\n        \"max\": 8,\n        \"num_unique_values\": 8,\n        \"samples\": [\n          2,\n          6,\n          1\n        ],\n        \"semantic_type\": \"\",\n        \"description\": \"\"\n      }\n    },\n    {\n      \"column\": \"Age (D) (8 categories)\",\n      \"properties\": {\n        \"dtype\": \"category\",\n        \"num_unique_values\": 8,\n        \"samples\": [\n          \"Aged 16 to 24 years\",\n          \"Aged 55 to 64 years\",\n          \"Aged 15 years and under\"\n        ],\n        \"semantic_type\": \"\",\n        \"description\": \"\"\n      }\n    },\n    {\n      \"column\": \"Sex (2 categories) Code\",\n      \"properties\": {\n        \"dtype\": \"number\",\n        \"std\": 0,\n        \"min\": 1,\n        \"max\": 2,\n        \"num_unique_values\": 2,\n        \"samples\": [\n          2,\n          1\n        ],\n        \"semantic_type\": \"\",\n        \"description\": \"\"\n      }\n    },\n    {\n      \"column\": \"Sex (2 categories)\",\n      \"properties\": {\n        \"dtype\": \"category\",\n        \"num_unique_values\": 2,\n        \"samples\": [\n          \"Male\",\n          \"Female\"\n        ],\n        \"semantic_type\": \"\",\n        \"description\": \"\"\n      }\n    },\n    {\n      \"column\": \"Observation\",\n      \"properties\": {\n        \"dtype\": \"number\",\n        \"std\": 5198,\n        \"min\": 0,\n        \"max\": 78828,\n        \"num_unique_values\": 5446,\n        \"samples\": [\n          19861,\n          2744\n        ],\n        \"semantic_type\": \"\",\n        \"description\": \"\"\n      }\n    }\n  ]\n}"
            }
          },
          "metadata": {},
          "execution_count": 5
        }
      ]
    },
    {
      "cell_type": "markdown",
      "source": [
        "# Display the first few rows"
      ],
      "metadata": {
        "id": "_wy634ZasAyR"
      }
    },
    {
      "cell_type": "code",
      "source": [
        "\n",
        "data.head()\n"
      ],
      "metadata": {
        "colab": {
          "base_uri": "https://localhost:8080/",
          "height": 399
        },
        "id": "NfkEkrrLY0MU",
        "outputId": "3b19548e-a3fb-4a58-8a2d-945ab2e7d777"
      },
      "execution_count": null,
      "outputs": [
        {
          "output_type": "execute_result",
          "data": {
            "text/plain": [
              "  Lower tier local authorities Code Lower tier local authorities  \\\n",
              "0                         E06000001                   Hartlepool   \n",
              "1                         E06000001                   Hartlepool   \n",
              "2                         E06000001                   Hartlepool   \n",
              "3                         E06000001                   Hartlepool   \n",
              "4                         E06000001                   Hartlepool   \n",
              "\n",
              "   Gender identity (4 categories) Code Gender identity (4 categories)  \\\n",
              "0                                   -8                 Does not apply   \n",
              "1                                   -8                 Does not apply   \n",
              "2                                   -8                 Does not apply   \n",
              "3                                   -8                 Does not apply   \n",
              "4                                   -8                 Does not apply   \n",
              "\n",
              "   Age (D) (8 categories) Code   Age (D) (8 categories)  \\\n",
              "0                            1  Aged 15 years and under   \n",
              "1                            1  Aged 15 years and under   \n",
              "2                            2      Aged 16 to 24 years   \n",
              "3                            2      Aged 16 to 24 years   \n",
              "4                            3      Aged 25 to 34 years   \n",
              "\n",
              "   Sex (2 categories) Code Sex (2 categories)  Observation  \n",
              "0                        1             Female            0  \n",
              "1                        2               Male            0  \n",
              "2                        1             Female            0  \n",
              "3                        2               Male            0  \n",
              "4                        1             Female            0  "
            ],
            "text/html": [
              "\n",
              "  <div id=\"df-974a3576-e285-46c1-b2f7-c3705cfbf734\" class=\"colab-df-container\">\n",
              "    <div>\n",
              "<style scoped>\n",
              "    .dataframe tbody tr th:only-of-type {\n",
              "        vertical-align: middle;\n",
              "    }\n",
              "\n",
              "    .dataframe tbody tr th {\n",
              "        vertical-align: top;\n",
              "    }\n",
              "\n",
              "    .dataframe thead th {\n",
              "        text-align: right;\n",
              "    }\n",
              "</style>\n",
              "<table border=\"1\" class=\"dataframe\">\n",
              "  <thead>\n",
              "    <tr style=\"text-align: right;\">\n",
              "      <th></th>\n",
              "      <th>Lower tier local authorities Code</th>\n",
              "      <th>Lower tier local authorities</th>\n",
              "      <th>Gender identity (4 categories) Code</th>\n",
              "      <th>Gender identity (4 categories)</th>\n",
              "      <th>Age (D) (8 categories) Code</th>\n",
              "      <th>Age (D) (8 categories)</th>\n",
              "      <th>Sex (2 categories) Code</th>\n",
              "      <th>Sex (2 categories)</th>\n",
              "      <th>Observation</th>\n",
              "    </tr>\n",
              "  </thead>\n",
              "  <tbody>\n",
              "    <tr>\n",
              "      <th>0</th>\n",
              "      <td>E06000001</td>\n",
              "      <td>Hartlepool</td>\n",
              "      <td>-8</td>\n",
              "      <td>Does not apply</td>\n",
              "      <td>1</td>\n",
              "      <td>Aged 15 years and under</td>\n",
              "      <td>1</td>\n",
              "      <td>Female</td>\n",
              "      <td>0</td>\n",
              "    </tr>\n",
              "    <tr>\n",
              "      <th>1</th>\n",
              "      <td>E06000001</td>\n",
              "      <td>Hartlepool</td>\n",
              "      <td>-8</td>\n",
              "      <td>Does not apply</td>\n",
              "      <td>1</td>\n",
              "      <td>Aged 15 years and under</td>\n",
              "      <td>2</td>\n",
              "      <td>Male</td>\n",
              "      <td>0</td>\n",
              "    </tr>\n",
              "    <tr>\n",
              "      <th>2</th>\n",
              "      <td>E06000001</td>\n",
              "      <td>Hartlepool</td>\n",
              "      <td>-8</td>\n",
              "      <td>Does not apply</td>\n",
              "      <td>2</td>\n",
              "      <td>Aged 16 to 24 years</td>\n",
              "      <td>1</td>\n",
              "      <td>Female</td>\n",
              "      <td>0</td>\n",
              "    </tr>\n",
              "    <tr>\n",
              "      <th>3</th>\n",
              "      <td>E06000001</td>\n",
              "      <td>Hartlepool</td>\n",
              "      <td>-8</td>\n",
              "      <td>Does not apply</td>\n",
              "      <td>2</td>\n",
              "      <td>Aged 16 to 24 years</td>\n",
              "      <td>2</td>\n",
              "      <td>Male</td>\n",
              "      <td>0</td>\n",
              "    </tr>\n",
              "    <tr>\n",
              "      <th>4</th>\n",
              "      <td>E06000001</td>\n",
              "      <td>Hartlepool</td>\n",
              "      <td>-8</td>\n",
              "      <td>Does not apply</td>\n",
              "      <td>3</td>\n",
              "      <td>Aged 25 to 34 years</td>\n",
              "      <td>1</td>\n",
              "      <td>Female</td>\n",
              "      <td>0</td>\n",
              "    </tr>\n",
              "  </tbody>\n",
              "</table>\n",
              "</div>\n",
              "    <div class=\"colab-df-buttons\">\n",
              "\n",
              "  <div class=\"colab-df-container\">\n",
              "    <button class=\"colab-df-convert\" onclick=\"convertToInteractive('df-974a3576-e285-46c1-b2f7-c3705cfbf734')\"\n",
              "            title=\"Convert this dataframe to an interactive table.\"\n",
              "            style=\"display:none;\">\n",
              "\n",
              "  <svg xmlns=\"http://www.w3.org/2000/svg\" height=\"24px\" viewBox=\"0 -960 960 960\">\n",
              "    <path d=\"M120-120v-720h720v720H120Zm60-500h600v-160H180v160Zm220 220h160v-160H400v160Zm0 220h160v-160H400v160ZM180-400h160v-160H180v160Zm440 0h160v-160H620v160ZM180-180h160v-160H180v160Zm440 0h160v-160H620v160Z\"/>\n",
              "  </svg>\n",
              "    </button>\n",
              "\n",
              "  <style>\n",
              "    .colab-df-container {\n",
              "      display:flex;\n",
              "      gap: 12px;\n",
              "    }\n",
              "\n",
              "    .colab-df-convert {\n",
              "      background-color: #E8F0FE;\n",
              "      border: none;\n",
              "      border-radius: 50%;\n",
              "      cursor: pointer;\n",
              "      display: none;\n",
              "      fill: #1967D2;\n",
              "      height: 32px;\n",
              "      padding: 0 0 0 0;\n",
              "      width: 32px;\n",
              "    }\n",
              "\n",
              "    .colab-df-convert:hover {\n",
              "      background-color: #E2EBFA;\n",
              "      box-shadow: 0px 1px 2px rgba(60, 64, 67, 0.3), 0px 1px 3px 1px rgba(60, 64, 67, 0.15);\n",
              "      fill: #174EA6;\n",
              "    }\n",
              "\n",
              "    .colab-df-buttons div {\n",
              "      margin-bottom: 4px;\n",
              "    }\n",
              "\n",
              "    [theme=dark] .colab-df-convert {\n",
              "      background-color: #3B4455;\n",
              "      fill: #D2E3FC;\n",
              "    }\n",
              "\n",
              "    [theme=dark] .colab-df-convert:hover {\n",
              "      background-color: #434B5C;\n",
              "      box-shadow: 0px 1px 3px 1px rgba(0, 0, 0, 0.15);\n",
              "      filter: drop-shadow(0px 1px 2px rgba(0, 0, 0, 0.3));\n",
              "      fill: #FFFFFF;\n",
              "    }\n",
              "  </style>\n",
              "\n",
              "    <script>\n",
              "      const buttonEl =\n",
              "        document.querySelector('#df-974a3576-e285-46c1-b2f7-c3705cfbf734 button.colab-df-convert');\n",
              "      buttonEl.style.display =\n",
              "        google.colab.kernel.accessAllowed ? 'block' : 'none';\n",
              "\n",
              "      async function convertToInteractive(key) {\n",
              "        const element = document.querySelector('#df-974a3576-e285-46c1-b2f7-c3705cfbf734');\n",
              "        const dataTable =\n",
              "          await google.colab.kernel.invokeFunction('convertToInteractive',\n",
              "                                                    [key], {});\n",
              "        if (!dataTable) return;\n",
              "\n",
              "        const docLinkHtml = 'Like what you see? Visit the ' +\n",
              "          '<a target=\"_blank\" href=https://colab.research.google.com/notebooks/data_table.ipynb>data table notebook</a>'\n",
              "          + ' to learn more about interactive tables.';\n",
              "        element.innerHTML = '';\n",
              "        dataTable['output_type'] = 'display_data';\n",
              "        await google.colab.output.renderOutput(dataTable, element);\n",
              "        const docLink = document.createElement('div');\n",
              "        docLink.innerHTML = docLinkHtml;\n",
              "        element.appendChild(docLink);\n",
              "      }\n",
              "    </script>\n",
              "  </div>\n",
              "\n",
              "\n",
              "<div id=\"df-81531f82-1ac3-43fc-9a19-ad79bf1e7a57\">\n",
              "  <button class=\"colab-df-quickchart\" onclick=\"quickchart('df-81531f82-1ac3-43fc-9a19-ad79bf1e7a57')\"\n",
              "            title=\"Suggest charts\"\n",
              "            style=\"display:none;\">\n",
              "\n",
              "<svg xmlns=\"http://www.w3.org/2000/svg\" height=\"24px\"viewBox=\"0 0 24 24\"\n",
              "     width=\"24px\">\n",
              "    <g>\n",
              "        <path d=\"M19 3H5c-1.1 0-2 .9-2 2v14c0 1.1.9 2 2 2h14c1.1 0 2-.9 2-2V5c0-1.1-.9-2-2-2zM9 17H7v-7h2v7zm4 0h-2V7h2v10zm4 0h-2v-4h2v4z\"/>\n",
              "    </g>\n",
              "</svg>\n",
              "  </button>\n",
              "\n",
              "<style>\n",
              "  .colab-df-quickchart {\n",
              "      --bg-color: #E8F0FE;\n",
              "      --fill-color: #1967D2;\n",
              "      --hover-bg-color: #E2EBFA;\n",
              "      --hover-fill-color: #174EA6;\n",
              "      --disabled-fill-color: #AAA;\n",
              "      --disabled-bg-color: #DDD;\n",
              "  }\n",
              "\n",
              "  [theme=dark] .colab-df-quickchart {\n",
              "      --bg-color: #3B4455;\n",
              "      --fill-color: #D2E3FC;\n",
              "      --hover-bg-color: #434B5C;\n",
              "      --hover-fill-color: #FFFFFF;\n",
              "      --disabled-bg-color: #3B4455;\n",
              "      --disabled-fill-color: #666;\n",
              "  }\n",
              "\n",
              "  .colab-df-quickchart {\n",
              "    background-color: var(--bg-color);\n",
              "    border: none;\n",
              "    border-radius: 50%;\n",
              "    cursor: pointer;\n",
              "    display: none;\n",
              "    fill: var(--fill-color);\n",
              "    height: 32px;\n",
              "    padding: 0;\n",
              "    width: 32px;\n",
              "  }\n",
              "\n",
              "  .colab-df-quickchart:hover {\n",
              "    background-color: var(--hover-bg-color);\n",
              "    box-shadow: 0 1px 2px rgba(60, 64, 67, 0.3), 0 1px 3px 1px rgba(60, 64, 67, 0.15);\n",
              "    fill: var(--button-hover-fill-color);\n",
              "  }\n",
              "\n",
              "  .colab-df-quickchart-complete:disabled,\n",
              "  .colab-df-quickchart-complete:disabled:hover {\n",
              "    background-color: var(--disabled-bg-color);\n",
              "    fill: var(--disabled-fill-color);\n",
              "    box-shadow: none;\n",
              "  }\n",
              "\n",
              "  .colab-df-spinner {\n",
              "    border: 2px solid var(--fill-color);\n",
              "    border-color: transparent;\n",
              "    border-bottom-color: var(--fill-color);\n",
              "    animation:\n",
              "      spin 1s steps(1) infinite;\n",
              "  }\n",
              "\n",
              "  @keyframes spin {\n",
              "    0% {\n",
              "      border-color: transparent;\n",
              "      border-bottom-color: var(--fill-color);\n",
              "      border-left-color: var(--fill-color);\n",
              "    }\n",
              "    20% {\n",
              "      border-color: transparent;\n",
              "      border-left-color: var(--fill-color);\n",
              "      border-top-color: var(--fill-color);\n",
              "    }\n",
              "    30% {\n",
              "      border-color: transparent;\n",
              "      border-left-color: var(--fill-color);\n",
              "      border-top-color: var(--fill-color);\n",
              "      border-right-color: var(--fill-color);\n",
              "    }\n",
              "    40% {\n",
              "      border-color: transparent;\n",
              "      border-right-color: var(--fill-color);\n",
              "      border-top-color: var(--fill-color);\n",
              "    }\n",
              "    60% {\n",
              "      border-color: transparent;\n",
              "      border-right-color: var(--fill-color);\n",
              "    }\n",
              "    80% {\n",
              "      border-color: transparent;\n",
              "      border-right-color: var(--fill-color);\n",
              "      border-bottom-color: var(--fill-color);\n",
              "    }\n",
              "    90% {\n",
              "      border-color: transparent;\n",
              "      border-bottom-color: var(--fill-color);\n",
              "    }\n",
              "  }\n",
              "</style>\n",
              "\n",
              "  <script>\n",
              "    async function quickchart(key) {\n",
              "      const quickchartButtonEl =\n",
              "        document.querySelector('#' + key + ' button');\n",
              "      quickchartButtonEl.disabled = true;  // To prevent multiple clicks.\n",
              "      quickchartButtonEl.classList.add('colab-df-spinner');\n",
              "      try {\n",
              "        const charts = await google.colab.kernel.invokeFunction(\n",
              "            'suggestCharts', [key], {});\n",
              "      } catch (error) {\n",
              "        console.error('Error during call to suggestCharts:', error);\n",
              "      }\n",
              "      quickchartButtonEl.classList.remove('colab-df-spinner');\n",
              "      quickchartButtonEl.classList.add('colab-df-quickchart-complete');\n",
              "    }\n",
              "    (() => {\n",
              "      let quickchartButtonEl =\n",
              "        document.querySelector('#df-81531f82-1ac3-43fc-9a19-ad79bf1e7a57 button');\n",
              "      quickchartButtonEl.style.display =\n",
              "        google.colab.kernel.accessAllowed ? 'block' : 'none';\n",
              "    })();\n",
              "  </script>\n",
              "</div>\n",
              "\n",
              "    </div>\n",
              "  </div>\n"
            ],
            "application/vnd.google.colaboratory.intrinsic+json": {
              "type": "dataframe",
              "variable_name": "data",
              "summary": "{\n  \"name\": \"data\",\n  \"rows\": 21184,\n  \"fields\": [\n    {\n      \"column\": \"Lower tier local authorities Code\",\n      \"properties\": {\n        \"dtype\": \"category\",\n        \"num_unique_values\": 331,\n        \"samples\": [\n          \"E06000026\",\n          \"E09000032\",\n          \"E07000035\"\n        ],\n        \"semantic_type\": \"\",\n        \"description\": \"\"\n      }\n    },\n    {\n      \"column\": \"Lower tier local authorities\",\n      \"properties\": {\n        \"dtype\": \"category\",\n        \"num_unique_values\": 331,\n        \"samples\": [\n          \"Plymouth\",\n          \"Wandsworth\",\n          \"Derbyshire Dales\"\n        ],\n        \"semantic_type\": \"\",\n        \"description\": \"\"\n      }\n    },\n    {\n      \"column\": \"Gender identity (4 categories) Code\",\n      \"properties\": {\n        \"dtype\": \"number\",\n        \"std\": 4,\n        \"min\": -8,\n        \"max\": 3,\n        \"num_unique_values\": 4,\n        \"samples\": [\n          1,\n          3,\n          -8\n        ],\n        \"semantic_type\": \"\",\n        \"description\": \"\"\n      }\n    },\n    {\n      \"column\": \"Gender identity (4 categories)\",\n      \"properties\": {\n        \"dtype\": \"category\",\n        \"num_unique_values\": 4,\n        \"samples\": [\n          \"Gender identity the same as sex registered at birth\",\n          \"Not answered\",\n          \"Does not apply\"\n        ],\n        \"semantic_type\": \"\",\n        \"description\": \"\"\n      }\n    },\n    {\n      \"column\": \"Age (D) (8 categories) Code\",\n      \"properties\": {\n        \"dtype\": \"number\",\n        \"std\": 2,\n        \"min\": 1,\n        \"max\": 8,\n        \"num_unique_values\": 8,\n        \"samples\": [\n          2,\n          6,\n          1\n        ],\n        \"semantic_type\": \"\",\n        \"description\": \"\"\n      }\n    },\n    {\n      \"column\": \"Age (D) (8 categories)\",\n      \"properties\": {\n        \"dtype\": \"category\",\n        \"num_unique_values\": 8,\n        \"samples\": [\n          \"Aged 16 to 24 years\",\n          \"Aged 55 to 64 years\",\n          \"Aged 15 years and under\"\n        ],\n        \"semantic_type\": \"\",\n        \"description\": \"\"\n      }\n    },\n    {\n      \"column\": \"Sex (2 categories) Code\",\n      \"properties\": {\n        \"dtype\": \"number\",\n        \"std\": 0,\n        \"min\": 1,\n        \"max\": 2,\n        \"num_unique_values\": 2,\n        \"samples\": [\n          2,\n          1\n        ],\n        \"semantic_type\": \"\",\n        \"description\": \"\"\n      }\n    },\n    {\n      \"column\": \"Sex (2 categories)\",\n      \"properties\": {\n        \"dtype\": \"category\",\n        \"num_unique_values\": 2,\n        \"samples\": [\n          \"Male\",\n          \"Female\"\n        ],\n        \"semantic_type\": \"\",\n        \"description\": \"\"\n      }\n    },\n    {\n      \"column\": \"Observation\",\n      \"properties\": {\n        \"dtype\": \"number\",\n        \"std\": 5198,\n        \"min\": 0,\n        \"max\": 78828,\n        \"num_unique_values\": 5446,\n        \"samples\": [\n          19861,\n          2744\n        ],\n        \"semantic_type\": \"\",\n        \"description\": \"\"\n      }\n    }\n  ]\n}"
            }
          },
          "metadata": {},
          "execution_count": 6
        }
      ]
    },
    {
      "cell_type": "markdown",
      "source": [
        "# Display the last few rows"
      ],
      "metadata": {
        "id": "sWaZy3FCsCYg"
      }
    },
    {
      "cell_type": "code",
      "source": [
        "data.tail()"
      ],
      "metadata": {
        "colab": {
          "base_uri": "https://localhost:8080/",
          "height": 399
        },
        "id": "kIPX3AXeZfGw",
        "outputId": "f5c96442-f7bd-491e-e24d-0f1079af1821"
      },
      "execution_count": null,
      "outputs": [
        {
          "output_type": "execute_result",
          "data": {
            "text/plain": [
              "      Lower tier local authorities Code Lower tier local authorities  \\\n",
              "21179                         W06000024               Merthyr Tydfil   \n",
              "21180                         W06000024               Merthyr Tydfil   \n",
              "21181                         W06000024               Merthyr Tydfil   \n",
              "21182                         W06000024               Merthyr Tydfil   \n",
              "21183                         W06000024               Merthyr Tydfil   \n",
              "\n",
              "       Gender identity (4 categories) Code Gender identity (4 categories)  \\\n",
              "21179                                    3                   Not answered   \n",
              "21180                                    3                   Not answered   \n",
              "21181                                    3                   Not answered   \n",
              "21182                                    3                   Not answered   \n",
              "21183                                    3                   Not answered   \n",
              "\n",
              "       Age (D) (8 categories) Code  Age (D) (8 categories)  \\\n",
              "21179                            6     Aged 55 to 64 years   \n",
              "21180                            7     Aged 65 to 74 years   \n",
              "21181                            7     Aged 65 to 74 years   \n",
              "21182                            8  Aged 75 years and over   \n",
              "21183                            8  Aged 75 years and over   \n",
              "\n",
              "       Sex (2 categories) Code Sex (2 categories)  Observation  \n",
              "21179                        2               Male          215  \n",
              "21180                        1             Female          229  \n",
              "21181                        2               Male          189  \n",
              "21182                        1             Female          295  \n",
              "21183                        2               Male          213  "
            ],
            "text/html": [
              "\n",
              "  <div id=\"df-76be3177-b67c-42b1-8dd3-ff8218179b04\" class=\"colab-df-container\">\n",
              "    <div>\n",
              "<style scoped>\n",
              "    .dataframe tbody tr th:only-of-type {\n",
              "        vertical-align: middle;\n",
              "    }\n",
              "\n",
              "    .dataframe tbody tr th {\n",
              "        vertical-align: top;\n",
              "    }\n",
              "\n",
              "    .dataframe thead th {\n",
              "        text-align: right;\n",
              "    }\n",
              "</style>\n",
              "<table border=\"1\" class=\"dataframe\">\n",
              "  <thead>\n",
              "    <tr style=\"text-align: right;\">\n",
              "      <th></th>\n",
              "      <th>Lower tier local authorities Code</th>\n",
              "      <th>Lower tier local authorities</th>\n",
              "      <th>Gender identity (4 categories) Code</th>\n",
              "      <th>Gender identity (4 categories)</th>\n",
              "      <th>Age (D) (8 categories) Code</th>\n",
              "      <th>Age (D) (8 categories)</th>\n",
              "      <th>Sex (2 categories) Code</th>\n",
              "      <th>Sex (2 categories)</th>\n",
              "      <th>Observation</th>\n",
              "    </tr>\n",
              "  </thead>\n",
              "  <tbody>\n",
              "    <tr>\n",
              "      <th>21179</th>\n",
              "      <td>W06000024</td>\n",
              "      <td>Merthyr Tydfil</td>\n",
              "      <td>3</td>\n",
              "      <td>Not answered</td>\n",
              "      <td>6</td>\n",
              "      <td>Aged 55 to 64 years</td>\n",
              "      <td>2</td>\n",
              "      <td>Male</td>\n",
              "      <td>215</td>\n",
              "    </tr>\n",
              "    <tr>\n",
              "      <th>21180</th>\n",
              "      <td>W06000024</td>\n",
              "      <td>Merthyr Tydfil</td>\n",
              "      <td>3</td>\n",
              "      <td>Not answered</td>\n",
              "      <td>7</td>\n",
              "      <td>Aged 65 to 74 years</td>\n",
              "      <td>1</td>\n",
              "      <td>Female</td>\n",
              "      <td>229</td>\n",
              "    </tr>\n",
              "    <tr>\n",
              "      <th>21181</th>\n",
              "      <td>W06000024</td>\n",
              "      <td>Merthyr Tydfil</td>\n",
              "      <td>3</td>\n",
              "      <td>Not answered</td>\n",
              "      <td>7</td>\n",
              "      <td>Aged 65 to 74 years</td>\n",
              "      <td>2</td>\n",
              "      <td>Male</td>\n",
              "      <td>189</td>\n",
              "    </tr>\n",
              "    <tr>\n",
              "      <th>21182</th>\n",
              "      <td>W06000024</td>\n",
              "      <td>Merthyr Tydfil</td>\n",
              "      <td>3</td>\n",
              "      <td>Not answered</td>\n",
              "      <td>8</td>\n",
              "      <td>Aged 75 years and over</td>\n",
              "      <td>1</td>\n",
              "      <td>Female</td>\n",
              "      <td>295</td>\n",
              "    </tr>\n",
              "    <tr>\n",
              "      <th>21183</th>\n",
              "      <td>W06000024</td>\n",
              "      <td>Merthyr Tydfil</td>\n",
              "      <td>3</td>\n",
              "      <td>Not answered</td>\n",
              "      <td>8</td>\n",
              "      <td>Aged 75 years and over</td>\n",
              "      <td>2</td>\n",
              "      <td>Male</td>\n",
              "      <td>213</td>\n",
              "    </tr>\n",
              "  </tbody>\n",
              "</table>\n",
              "</div>\n",
              "    <div class=\"colab-df-buttons\">\n",
              "\n",
              "  <div class=\"colab-df-container\">\n",
              "    <button class=\"colab-df-convert\" onclick=\"convertToInteractive('df-76be3177-b67c-42b1-8dd3-ff8218179b04')\"\n",
              "            title=\"Convert this dataframe to an interactive table.\"\n",
              "            style=\"display:none;\">\n",
              "\n",
              "  <svg xmlns=\"http://www.w3.org/2000/svg\" height=\"24px\" viewBox=\"0 -960 960 960\">\n",
              "    <path d=\"M120-120v-720h720v720H120Zm60-500h600v-160H180v160Zm220 220h160v-160H400v160Zm0 220h160v-160H400v160ZM180-400h160v-160H180v160Zm440 0h160v-160H620v160ZM180-180h160v-160H180v160Zm440 0h160v-160H620v160Z\"/>\n",
              "  </svg>\n",
              "    </button>\n",
              "\n",
              "  <style>\n",
              "    .colab-df-container {\n",
              "      display:flex;\n",
              "      gap: 12px;\n",
              "    }\n",
              "\n",
              "    .colab-df-convert {\n",
              "      background-color: #E8F0FE;\n",
              "      border: none;\n",
              "      border-radius: 50%;\n",
              "      cursor: pointer;\n",
              "      display: none;\n",
              "      fill: #1967D2;\n",
              "      height: 32px;\n",
              "      padding: 0 0 0 0;\n",
              "      width: 32px;\n",
              "    }\n",
              "\n",
              "    .colab-df-convert:hover {\n",
              "      background-color: #E2EBFA;\n",
              "      box-shadow: 0px 1px 2px rgba(60, 64, 67, 0.3), 0px 1px 3px 1px rgba(60, 64, 67, 0.15);\n",
              "      fill: #174EA6;\n",
              "    }\n",
              "\n",
              "    .colab-df-buttons div {\n",
              "      margin-bottom: 4px;\n",
              "    }\n",
              "\n",
              "    [theme=dark] .colab-df-convert {\n",
              "      background-color: #3B4455;\n",
              "      fill: #D2E3FC;\n",
              "    }\n",
              "\n",
              "    [theme=dark] .colab-df-convert:hover {\n",
              "      background-color: #434B5C;\n",
              "      box-shadow: 0px 1px 3px 1px rgba(0, 0, 0, 0.15);\n",
              "      filter: drop-shadow(0px 1px 2px rgba(0, 0, 0, 0.3));\n",
              "      fill: #FFFFFF;\n",
              "    }\n",
              "  </style>\n",
              "\n",
              "    <script>\n",
              "      const buttonEl =\n",
              "        document.querySelector('#df-76be3177-b67c-42b1-8dd3-ff8218179b04 button.colab-df-convert');\n",
              "      buttonEl.style.display =\n",
              "        google.colab.kernel.accessAllowed ? 'block' : 'none';\n",
              "\n",
              "      async function convertToInteractive(key) {\n",
              "        const element = document.querySelector('#df-76be3177-b67c-42b1-8dd3-ff8218179b04');\n",
              "        const dataTable =\n",
              "          await google.colab.kernel.invokeFunction('convertToInteractive',\n",
              "                                                    [key], {});\n",
              "        if (!dataTable) return;\n",
              "\n",
              "        const docLinkHtml = 'Like what you see? Visit the ' +\n",
              "          '<a target=\"_blank\" href=https://colab.research.google.com/notebooks/data_table.ipynb>data table notebook</a>'\n",
              "          + ' to learn more about interactive tables.';\n",
              "        element.innerHTML = '';\n",
              "        dataTable['output_type'] = 'display_data';\n",
              "        await google.colab.output.renderOutput(dataTable, element);\n",
              "        const docLink = document.createElement('div');\n",
              "        docLink.innerHTML = docLinkHtml;\n",
              "        element.appendChild(docLink);\n",
              "      }\n",
              "    </script>\n",
              "  </div>\n",
              "\n",
              "\n",
              "<div id=\"df-ff0b6568-012a-4348-8251-7653fd1eaf06\">\n",
              "  <button class=\"colab-df-quickchart\" onclick=\"quickchart('df-ff0b6568-012a-4348-8251-7653fd1eaf06')\"\n",
              "            title=\"Suggest charts\"\n",
              "            style=\"display:none;\">\n",
              "\n",
              "<svg xmlns=\"http://www.w3.org/2000/svg\" height=\"24px\"viewBox=\"0 0 24 24\"\n",
              "     width=\"24px\">\n",
              "    <g>\n",
              "        <path d=\"M19 3H5c-1.1 0-2 .9-2 2v14c0 1.1.9 2 2 2h14c1.1 0 2-.9 2-2V5c0-1.1-.9-2-2-2zM9 17H7v-7h2v7zm4 0h-2V7h2v10zm4 0h-2v-4h2v4z\"/>\n",
              "    </g>\n",
              "</svg>\n",
              "  </button>\n",
              "\n",
              "<style>\n",
              "  .colab-df-quickchart {\n",
              "      --bg-color: #E8F0FE;\n",
              "      --fill-color: #1967D2;\n",
              "      --hover-bg-color: #E2EBFA;\n",
              "      --hover-fill-color: #174EA6;\n",
              "      --disabled-fill-color: #AAA;\n",
              "      --disabled-bg-color: #DDD;\n",
              "  }\n",
              "\n",
              "  [theme=dark] .colab-df-quickchart {\n",
              "      --bg-color: #3B4455;\n",
              "      --fill-color: #D2E3FC;\n",
              "      --hover-bg-color: #434B5C;\n",
              "      --hover-fill-color: #FFFFFF;\n",
              "      --disabled-bg-color: #3B4455;\n",
              "      --disabled-fill-color: #666;\n",
              "  }\n",
              "\n",
              "  .colab-df-quickchart {\n",
              "    background-color: var(--bg-color);\n",
              "    border: none;\n",
              "    border-radius: 50%;\n",
              "    cursor: pointer;\n",
              "    display: none;\n",
              "    fill: var(--fill-color);\n",
              "    height: 32px;\n",
              "    padding: 0;\n",
              "    width: 32px;\n",
              "  }\n",
              "\n",
              "  .colab-df-quickchart:hover {\n",
              "    background-color: var(--hover-bg-color);\n",
              "    box-shadow: 0 1px 2px rgba(60, 64, 67, 0.3), 0 1px 3px 1px rgba(60, 64, 67, 0.15);\n",
              "    fill: var(--button-hover-fill-color);\n",
              "  }\n",
              "\n",
              "  .colab-df-quickchart-complete:disabled,\n",
              "  .colab-df-quickchart-complete:disabled:hover {\n",
              "    background-color: var(--disabled-bg-color);\n",
              "    fill: var(--disabled-fill-color);\n",
              "    box-shadow: none;\n",
              "  }\n",
              "\n",
              "  .colab-df-spinner {\n",
              "    border: 2px solid var(--fill-color);\n",
              "    border-color: transparent;\n",
              "    border-bottom-color: var(--fill-color);\n",
              "    animation:\n",
              "      spin 1s steps(1) infinite;\n",
              "  }\n",
              "\n",
              "  @keyframes spin {\n",
              "    0% {\n",
              "      border-color: transparent;\n",
              "      border-bottom-color: var(--fill-color);\n",
              "      border-left-color: var(--fill-color);\n",
              "    }\n",
              "    20% {\n",
              "      border-color: transparent;\n",
              "      border-left-color: var(--fill-color);\n",
              "      border-top-color: var(--fill-color);\n",
              "    }\n",
              "    30% {\n",
              "      border-color: transparent;\n",
              "      border-left-color: var(--fill-color);\n",
              "      border-top-color: var(--fill-color);\n",
              "      border-right-color: var(--fill-color);\n",
              "    }\n",
              "    40% {\n",
              "      border-color: transparent;\n",
              "      border-right-color: var(--fill-color);\n",
              "      border-top-color: var(--fill-color);\n",
              "    }\n",
              "    60% {\n",
              "      border-color: transparent;\n",
              "      border-right-color: var(--fill-color);\n",
              "    }\n",
              "    80% {\n",
              "      border-color: transparent;\n",
              "      border-right-color: var(--fill-color);\n",
              "      border-bottom-color: var(--fill-color);\n",
              "    }\n",
              "    90% {\n",
              "      border-color: transparent;\n",
              "      border-bottom-color: var(--fill-color);\n",
              "    }\n",
              "  }\n",
              "</style>\n",
              "\n",
              "  <script>\n",
              "    async function quickchart(key) {\n",
              "      const quickchartButtonEl =\n",
              "        document.querySelector('#' + key + ' button');\n",
              "      quickchartButtonEl.disabled = true;  // To prevent multiple clicks.\n",
              "      quickchartButtonEl.classList.add('colab-df-spinner');\n",
              "      try {\n",
              "        const charts = await google.colab.kernel.invokeFunction(\n",
              "            'suggestCharts', [key], {});\n",
              "      } catch (error) {\n",
              "        console.error('Error during call to suggestCharts:', error);\n",
              "      }\n",
              "      quickchartButtonEl.classList.remove('colab-df-spinner');\n",
              "      quickchartButtonEl.classList.add('colab-df-quickchart-complete');\n",
              "    }\n",
              "    (() => {\n",
              "      let quickchartButtonEl =\n",
              "        document.querySelector('#df-ff0b6568-012a-4348-8251-7653fd1eaf06 button');\n",
              "      quickchartButtonEl.style.display =\n",
              "        google.colab.kernel.accessAllowed ? 'block' : 'none';\n",
              "    })();\n",
              "  </script>\n",
              "</div>\n",
              "\n",
              "    </div>\n",
              "  </div>\n"
            ],
            "application/vnd.google.colaboratory.intrinsic+json": {
              "type": "dataframe",
              "summary": "{\n  \"name\": \"data\",\n  \"rows\": 5,\n  \"fields\": [\n    {\n      \"column\": \"Lower tier local authorities Code\",\n      \"properties\": {\n        \"dtype\": \"category\",\n        \"num_unique_values\": 1,\n        \"samples\": [\n          \"W06000024\"\n        ],\n        \"semantic_type\": \"\",\n        \"description\": \"\"\n      }\n    },\n    {\n      \"column\": \"Lower tier local authorities\",\n      \"properties\": {\n        \"dtype\": \"category\",\n        \"num_unique_values\": 1,\n        \"samples\": [\n          \"Merthyr Tydfil\"\n        ],\n        \"semantic_type\": \"\",\n        \"description\": \"\"\n      }\n    },\n    {\n      \"column\": \"Gender identity (4 categories) Code\",\n      \"properties\": {\n        \"dtype\": \"number\",\n        \"std\": 0,\n        \"min\": 3,\n        \"max\": 3,\n        \"num_unique_values\": 1,\n        \"samples\": [\n          3\n        ],\n        \"semantic_type\": \"\",\n        \"description\": \"\"\n      }\n    },\n    {\n      \"column\": \"Gender identity (4 categories)\",\n      \"properties\": {\n        \"dtype\": \"category\",\n        \"num_unique_values\": 1,\n        \"samples\": [\n          \"Not answered\"\n        ],\n        \"semantic_type\": \"\",\n        \"description\": \"\"\n      }\n    },\n    {\n      \"column\": \"Age (D) (8 categories) Code\",\n      \"properties\": {\n        \"dtype\": \"number\",\n        \"std\": 0,\n        \"min\": 6,\n        \"max\": 8,\n        \"num_unique_values\": 3,\n        \"samples\": [\n          6\n        ],\n        \"semantic_type\": \"\",\n        \"description\": \"\"\n      }\n    },\n    {\n      \"column\": \"Age (D) (8 categories)\",\n      \"properties\": {\n        \"dtype\": \"string\",\n        \"num_unique_values\": 3,\n        \"samples\": [\n          \"Aged 55 to 64 years\"\n        ],\n        \"semantic_type\": \"\",\n        \"description\": \"\"\n      }\n    },\n    {\n      \"column\": \"Sex (2 categories) Code\",\n      \"properties\": {\n        \"dtype\": \"number\",\n        \"std\": 0,\n        \"min\": 1,\n        \"max\": 2,\n        \"num_unique_values\": 2,\n        \"samples\": [\n          1\n        ],\n        \"semantic_type\": \"\",\n        \"description\": \"\"\n      }\n    },\n    {\n      \"column\": \"Sex (2 categories)\",\n      \"properties\": {\n        \"dtype\": \"category\",\n        \"num_unique_values\": 2,\n        \"samples\": [\n          \"Female\"\n        ],\n        \"semantic_type\": \"\",\n        \"description\": \"\"\n      }\n    },\n    {\n      \"column\": \"Observation\",\n      \"properties\": {\n        \"dtype\": \"number\",\n        \"std\": 40,\n        \"min\": 189,\n        \"max\": 295,\n        \"num_unique_values\": 5,\n        \"samples\": [\n          229\n        ],\n        \"semantic_type\": \"\",\n        \"description\": \"\"\n      }\n    }\n  ]\n}"
            }
          },
          "metadata": {},
          "execution_count": 7
        }
      ]
    },
    {
      "cell_type": "markdown",
      "source": [
        "# Check the column names"
      ],
      "metadata": {
        "id": "LzLkhwyMsF5O"
      }
    },
    {
      "cell_type": "code",
      "source": [
        "print(data.columns)"
      ],
      "metadata": {
        "colab": {
          "base_uri": "https://localhost:8080/"
        },
        "id": "jX8oqHZ3Zl-c",
        "outputId": "e4f4cbeb-1a5b-46a1-d605-9176cb6858c7"
      },
      "execution_count": null,
      "outputs": [
        {
          "output_type": "stream",
          "name": "stdout",
          "text": [
            "Index(['Lower tier local authorities Code', 'Lower tier local authorities',\n",
            "       'Gender identity (4 categories) Code', 'Gender identity (4 categories)',\n",
            "       'Age (D) (8 categories) Code', 'Age (D) (8 categories)',\n",
            "       'Sex (2 categories) Code', 'Sex (2 categories)', 'Observation'],\n",
            "      dtype='object')\n"
          ]
        }
      ]
    },
    {
      "cell_type": "markdown",
      "source": [
        "# Check for missing values"
      ],
      "metadata": {
        "id": "zpCncud8vvbW"
      }
    },
    {
      "cell_type": "code",
      "source": [
        "print(data.isnull().sum())"
      ],
      "metadata": {
        "colab": {
          "base_uri": "https://localhost:8080/"
        },
        "id": "g8iXl6BZZoLB",
        "outputId": "de9a1753-140d-420e-fea3-5b0e1e1e16b8"
      },
      "execution_count": null,
      "outputs": [
        {
          "output_type": "stream",
          "name": "stdout",
          "text": [
            "Lower tier local authorities Code      0\n",
            "Lower tier local authorities           0\n",
            "Gender identity (4 categories) Code    0\n",
            "Gender identity (4 categories)         0\n",
            "Age (D) (8 categories) Code            0\n",
            "Age (D) (8 categories)                 0\n",
            "Sex (2 categories) Code                0\n",
            "Sex (2 categories)                     0\n",
            "Observation                            0\n",
            "dtype: int64\n"
          ]
        }
      ]
    },
    {
      "cell_type": "markdown",
      "source": [
        "# Rename columns for better readability"
      ],
      "metadata": {
        "id": "ns1yklFhwXlf"
      }
    },
    {
      "cell_type": "code",
      "source": [
        "data.rename(columns={\n",
        "    'Lower tier local authorities Code': 'Local_Authority_Code',\n",
        "    'Lower tier local authorities': 'Local_Authority',\n",
        "    'Gender identity (4 categories) Code': 'Gender_Identity_Code',\n",
        "    'Gender identity (4 categories)': 'Gender_Identity',\n",
        "    'Age (D) (8 categories) Code': 'Age_Code',\n",
        "    'Age (D) (8 categories)': 'Age_Group',\n",
        "    'Sex (2 categories) Code': 'Sex_Code',\n",
        "    'Sex (2 categories)': 'Sex',\n",
        "    'Observation': 'Observation_Value'\n",
        "}, inplace=True)"
      ],
      "metadata": {
        "id": "e-UZ88kmwV9u"
      },
      "execution_count": null,
      "outputs": []
    },
    {
      "cell_type": "markdown",
      "source": [
        "# Verify column renaming"
      ],
      "metadata": {
        "id": "HOV0WrVOwgXH"
      }
    },
    {
      "cell_type": "code",
      "source": [
        "print(data.columns)\n"
      ],
      "metadata": {
        "colab": {
          "base_uri": "https://localhost:8080/"
        },
        "id": "FJd7KGMYwb-L",
        "outputId": "72b1309b-56ca-42f2-decf-552497404b8a"
      },
      "execution_count": null,
      "outputs": [
        {
          "output_type": "stream",
          "name": "stdout",
          "text": [
            "Index(['Local_Authority_Code', 'Local_Authority', 'Gender_Identity_Code',\n",
            "       'Gender_Identity', 'Age_Code', 'Age_Group', 'Sex_Code', 'Sex',\n",
            "       'Observation_Value'],\n",
            "      dtype='object')\n"
          ]
        }
      ]
    },
    {
      "cell_type": "code",
      "source": [
        "# Example: Create a new feature to classify by 'Male' vs. 'Female' based on Gender_Identity and Sex\n",
        "data['Gender_Sex_Combined'] = data.apply(lambda row: 'Male' if row['Sex'] == 'Male' else 'Female', axis=1)\n",
        "\n",
        "# Verify the new feature\n",
        "print(data[['Gender_Identity', 'Sex', 'Gender_Sex_Combined']].head())\n"
      ],
      "metadata": {
        "colab": {
          "base_uri": "https://localhost:8080/"
        },
        "id": "c6SvSx7Wwhmx",
        "outputId": "1c269029-9a6f-44df-afd0-ea3567b7870e"
      },
      "execution_count": null,
      "outputs": [
        {
          "output_type": "stream",
          "name": "stdout",
          "text": [
            "  Gender_Identity     Sex Gender_Sex_Combined\n",
            "0  Does not apply  Female              Female\n",
            "1  Does not apply    Male                Male\n",
            "2  Does not apply  Female              Female\n",
            "3  Does not apply    Male                Male\n",
            "4  Does not apply  Female              Female\n"
          ]
        }
      ]
    },
    {
      "cell_type": "markdown",
      "source": [
        "# Example: Create a flag for a specific region (e.g., \"London\" as a region)"
      ],
      "metadata": {
        "id": "H-Ut31KuyRBu"
      }
    },
    {
      "cell_type": "code",
      "source": [
        "data['Is_London'] = data['Local_Authority'].apply(lambda x: 1 if 'London' in x else 0)\n",
        "\n",
        "# Verify the new feature\n",
        "print(data[['Local_Authority', 'Is_London']].head())\n"
      ],
      "metadata": {
        "colab": {
          "base_uri": "https://localhost:8080/"
        },
        "id": "2RYF6SswyON7",
        "outputId": "15066817-6a20-42b1-f668-acc09729e014"
      },
      "execution_count": null,
      "outputs": [
        {
          "output_type": "stream",
          "name": "stdout",
          "text": [
            "  Local_Authority  Is_London\n",
            "0      Hartlepool          0\n",
            "1      Hartlepool          0\n",
            "2      Hartlepool          0\n",
            "3      Hartlepool          0\n",
            "4      Hartlepool          0\n"
          ]
        }
      ]
    },
    {
      "cell_type": "markdown",
      "source": [
        "# Example: Fill missing values with the mode (most frequent value) of each column"
      ],
      "metadata": {
        "id": "KMkH3ZLryb0c"
      }
    },
    {
      "cell_type": "code",
      "source": [
        "data.fillna(data.mode().iloc[0], inplace=True)\n"
      ],
      "metadata": {
        "id": "HwxfBbBJyXz6"
      },
      "execution_count": null,
      "outputs": []
    },
    {
      "cell_type": "markdown",
      "source": [
        "# Convert columns to numeric"
      ],
      "metadata": {
        "id": "LwncdTLRsIaa"
      }
    },
    {
      "cell_type": "code",
      "source": [
        "from sklearn.preprocessing import LabelEncoder\n",
        "le = LabelEncoder()\n",
        "\n",
        "data['Gender_Identity'] = le.fit_transform(data['Gender_Identity'])\n",
        "data['Age_Group'] = le.fit_transform(data['Age_Group'])\n",
        "data['Sex'] = le.fit_transform(data['Sex'])\n",
        "data['Local_Authority'] = le.fit_transform(data['Local_Authority'])\n"
      ],
      "metadata": {
        "id": "wU05d6TCbUsH"
      },
      "execution_count": null,
      "outputs": []
    },
    {
      "cell_type": "markdown",
      "source": [
        "\n",
        "# Verify the result"
      ],
      "metadata": {
        "id": "8lTMzlgBsS0_"
      }
    },
    {
      "cell_type": "code",
      "source": [
        "print(data.head())"
      ],
      "metadata": {
        "colab": {
          "base_uri": "https://localhost:8080/"
        },
        "id": "Fr2wSfagsXUo",
        "outputId": "891ecf0b-64b0-46ff-ad3a-efd035307872"
      },
      "execution_count": null,
      "outputs": [
        {
          "output_type": "stream",
          "name": "stdout",
          "text": [
            "  Local_Authority_Code  Local_Authority  Gender_Identity_Code  \\\n",
            "0            E06000001              128                    -8   \n",
            "1            E06000001              128                    -8   \n",
            "2            E06000001              128                    -8   \n",
            "3            E06000001              128                    -8   \n",
            "4            E06000001              128                    -8   \n",
            "\n",
            "   Gender_Identity  Age_Code  Age_Group  Sex_Code  Sex  Observation_Value  \\\n",
            "0                0         1          0         1    0                  0   \n",
            "1                0         1          0         2    1                  0   \n",
            "2                0         2          1         1    0                  0   \n",
            "3                0         2          1         2    1                  0   \n",
            "4                0         3          2         1    0                  0   \n",
            "\n",
            "  Gender_Sex_Combined  Is_London  \n",
            "0              Female          0  \n",
            "1                Male          0  \n",
            "2              Female          0  \n",
            "3                Male          0  \n",
            "4              Female          0  \n"
          ]
        }
      ]
    },
    {
      "cell_type": "markdown",
      "source": [
        "#Remove the columns that are not rerquires\n"
      ],
      "metadata": {
        "id": "BJvUecNcsjTq"
      }
    },
    {
      "cell_type": "code",
      "source": [
        "data.drop(columns=['Local_Authority_Code', 'Gender_Identity_Code', 'Sex_Code'], inplace=True)"
      ],
      "metadata": {
        "id": "wyriIXNxZpKy"
      },
      "execution_count": null,
      "outputs": []
    },
    {
      "cell_type": "markdown",
      "source": [
        "# Verify the changes"
      ],
      "metadata": {
        "id": "u3GIj0f4zCRB"
      }
    },
    {
      "cell_type": "code",
      "source": [
        "print(data.head())"
      ],
      "metadata": {
        "colab": {
          "base_uri": "https://localhost:8080/"
        },
        "id": "2lFM4M-HZ5od",
        "outputId": "0c221cff-2063-4b40-be53-6f1c7493a27a"
      },
      "execution_count": null,
      "outputs": [
        {
          "output_type": "stream",
          "name": "stdout",
          "text": [
            "   Local_Authority  Gender_Identity  Age_Code  Age_Group  Sex  \\\n",
            "0              128                0         1          0    0   \n",
            "1              128                0         1          0    1   \n",
            "2              128                0         2          1    0   \n",
            "3              128                0         2          1    1   \n",
            "4              128                0         3          2    0   \n",
            "\n",
            "   Observation_Value Gender_Sex_Combined  Is_London  \n",
            "0                  0              Female          0  \n",
            "1                  0                Male          0  \n",
            "2                  0              Female          0  \n",
            "3                  0                Male          0  \n",
            "4                  0              Female          0  \n"
          ]
        }
      ]
    },
    {
      "cell_type": "markdown",
      "source": [
        "#Data Visualisation"
      ],
      "metadata": {
        "id": "QpJ_4Umasxmv"
      }
    },
    {
      "cell_type": "markdown",
      "source": [
        "#Visualize the Distribution of Gender (Categorical)\n",
        "Since we encoded gender into numeric labels, we will use a bar chart to visualize the distribution."
      ],
      "metadata": {
        "id": "UlMEj4eb1JsX"
      }
    },
    {
      "cell_type": "code",
      "source": [
        "plt.figure(figsize=(8, 6))\n",
        "sns.countplot(data=data, x='Gender_Identity')\n",
        "plt.title('Distribution of Gender Identity')\n",
        "plt.xlabel('Gender Identity')\n",
        "plt.ylabel('Count')\n",
        "plt.xticks(rotation=0)\n",
        "plt.show()\n"
      ],
      "metadata": {
        "colab": {
          "base_uri": "https://localhost:8080/",
          "height": 564
        },
        "id": "wN2lhfGW0F1F",
        "outputId": "78fb8319-6bfa-428e-8115-1630d8104ccb"
      },
      "execution_count": null,
      "outputs": [
        {
          "output_type": "display_data",
          "data": {
            "text/plain": [
              "<Figure size 800x600 with 1 Axes>"
            ],
            "image/png": "[encoded data removed]"
          },
          "metadata": {}
        }
      ]
    },
    {
      "cell_type": "markdown",
      "source": [
        "\n",
        "# Plot the distribution of Age Groups"
      ],
      "metadata": {
        "id": "ChXDXnrs1u85"
      }
    },
    {
      "cell_type": "code",
      "source": [
        "age_group_mapping = {\n",
        "    1: '18-24',\n",
        "    2: '25-34',\n",
        "    3: '35-44',\n",
        "    4: '45-54',\n",
        "    5: '55-64',\n",
        "    6: '65-74',\n",
        "    7: '75-84',\n",
        "    8: '85+'\n",
        "}\n",
        "# Map the numeric age group to its respective label\n",
        "data['Age_Group_Label'] = data['Age_Group'].map(age_group_mapping)\n"
      ],
      "metadata": {
        "id": "Oetq4w8j1f5z"
      },
      "execution_count": null,
      "outputs": []
    },
    {
      "cell_type": "code",
      "source": [
        "plt.figure(figsize=(8, 6))\n",
        "sns.countplot(data=data, x='Age_Group_Label')\n",
        "plt.title('Distribution of Age Groups')\n",
        "plt.xlabel('Age Group')\n",
        "plt.ylabel('Count')\n",
        "plt.xticks(rotation=45)\n",
        "plt.show()"
      ],
      "metadata": {
        "colab": {
          "base_uri": "https://localhost:8080/",
          "height": 588
        },
        "id": "9-hTQZH90LGn",
        "outputId": "924d8da7-a765-4945-a824-b7061812f7cb"
      },
      "execution_count": null,
      "outputs": [
        {
          "output_type": "display_data",
          "data": {
            "text/plain": [
              "<Figure size 800x600 with 1 Axes>"
            ],
            "image/png": "[encoded data removed]"
          },
          "metadata": {}
        }
      ]
    },
    {
      "cell_type": "markdown",
      "source": [
        "#Visualize the Distribution of Sex (Categorical)"
      ],
      "metadata": {
        "id": "jidcCyUN1-cp"
      }
    },
    {
      "cell_type": "code",
      "source": [
        "plt.figure(figsize=(8, 6))\n",
        "sns.countplot(data=data, x='Sex')\n",
        "plt.title('Distribution of Sex')\n",
        "plt.xlabel('Sex')\n",
        "plt.ylabel('Count')\n",
        "plt.xticks(rotation=0)\n",
        "plt.show()"
      ],
      "metadata": {
        "colab": {
          "base_uri": "https://localhost:8080/",
          "height": 564
        },
        "id": "B47Fespm0K7P",
        "outputId": "c2c681cb-6427-43e4-dbe0-6d800670bb2b"
      },
      "execution_count": null,
      "outputs": [
        {
          "output_type": "display_data",
          "data": {
            "text/plain": [
              "<Figure size 800x600 with 1 Axes>"
            ],
            "image/png": "[encoded data removed]"
          },
          "metadata": {}
        }
      ]
    },
    {
      "cell_type": "markdown",
      "source": [
        "#Visualize the Distribution of Observation (Continuous)"
      ],
      "metadata": {
        "id": "eH0QhNtG2QIn"
      }
    },
    {
      "cell_type": "code",
      "source": [
        "plt.figure(figsize=(8, 6))\n",
        "sns.histplot(data['Observation_Value'], bins=20, kde=True, color='skyblue')\n",
        "plt.title('Distribution of Observation Value')\n",
        "plt.xlabel('Observation Value')\n",
        "plt.ylabel('Frequency')\n",
        "plt.show()"
      ],
      "metadata": {
        "colab": {
          "base_uri": "https://localhost:8080/",
          "height": 564
        },
        "id": "DQ1Q_AmY0Ku0",
        "outputId": "8d6f1658-54ad-4930-ea54-34452412dd97"
      },
      "execution_count": null,
      "outputs": [
        {
          "output_type": "display_data",
          "data": {
            "text/plain": [
              "<Figure size 800x600 with 1 Axes>"
            ],
            "image/png": "[encoded data removed]"
          },
          "metadata": {}
        }
      ]
    },
    {
      "cell_type": "code",
      "source": [
        "# the gender distribution plot\n",
        "plt.figure(figsize=(8, 6))\n",
        "sns.countplot(data=data, x='Gender_Identity')\n",
        "plt.title('Distribution of Gender Identity')\n",
        "plt.xlabel('Gender Identity')\n",
        "plt.ylabel('Count')\n",
        "plt.xticks(rotation=0)\n",
        "plt.savefig('gender_distribution.png')\n",
        "\n",
        "# The age group distribution plot\n",
        "plt.figure(figsize=(8, 6))\n",
        "sns.countplot(data=data, x='Age_Group')\n",
        "plt.title('Distribution of Age Groups')\n",
        "plt.xlabel('Age Group')\n",
        "plt.ylabel('Count')\n",
        "plt.xticks(rotation=45)\n",
        "plt.savefig('age_group_distribution.png')\n"
      ],
      "metadata": {
        "colab": {
          "base_uri": "https://localhost:8080/",
          "height": 1000
        },
        "id": "eqboTntS2aBF",
        "outputId": "d80ad744-e266-4fb0-96e6-07e2c075d8d0"
      },
      "execution_count": null,
      "outputs": [
        {
          "output_type": "display_data",
          "data": {
            "text/plain": [
              "<Figure size 800x600 with 1 Axes>"
            ],
            "image/png": "[encoded data removed]"
          },
          "metadata": {}
        },
        {
          "output_type": "display_data",
          "data": {
            "text/plain": [
              "<Figure size 800x600 with 1 Axes>"
            ],
            "image/png": "[encoded data removed]"
          },
          "metadata": {}
        }
      ]
    },
    {
      "cell_type": "markdown",
      "source": [
        "#Visualize the Relationship Between Age and Gender Identity (Categorical)"
      ],
      "metadata": {
        "id": "6xHt8hY125el"
      }
    },
    {
      "cell_type": "code",
      "source": [
        "plt.figure(figsize=(10, 6))\n",
        "sns.countplot(data=data, x='Age_Group_Label', hue='Gender_Identity', palette='Set3')\n",
        "plt.title('Age Group Distribution by Gender Identity')\n",
        "plt.xlabel('Age Group')\n",
        "plt.ylabel('Count')\n",
        "plt.xticks(rotation=45)\n",
        "plt.show()\n"
      ],
      "metadata": {
        "colab": {
          "base_uri": "https://localhost:8080/",
          "height": 566
        },
        "id": "ygvfgtFm2zaL",
        "outputId": "3b04ace7-602b-4c22-f3d1-09d2800f8563"
      },
      "execution_count": null,
      "outputs": [
        {
          "output_type": "display_data",
          "data": {
            "text/plain": [
              "<Figure size 1000x600 with 1 Axes>"
            ],
            "image/png": "[encoded data removed]"
          },
          "metadata": {}
        }
      ]
    },
    {
      "cell_type": "markdown",
      "source": [
        "#Box Plot of Observation Values by Sex"
      ],
      "metadata": {
        "id": "t7aYInko3Jfy"
      }
    },
    {
      "cell_type": "code",
      "source": [
        "plt.figure(figsize=(8, 6))\n",
        "sns.boxplot(data=data, x='Sex', y='Observation_Value')\n",
        "plt.title('Box Plot of Observation Values by Sex')\n",
        "plt.xlabel('Sex')\n",
        "plt.ylabel('Observation Value')\n",
        "plt.show()\n"
      ],
      "metadata": {
        "colab": {
          "base_uri": "https://localhost:8080/",
          "height": 564
        },
        "id": "XrXbap2G3Bth",
        "outputId": "d2a67da1-8d91-4f9a-b557-959bcf46858e"
      },
      "execution_count": null,
      "outputs": [
        {
          "output_type": "display_data",
          "data": {
            "text/plain": [
              "<Figure size 800x600 with 1 Axes>"
            ],
            "image/png": "[encoded data removed]"
          },
          "metadata": {}
        }
      ]
    },
    {
      "cell_type": "markdown",
      "source": [
        "#{{{{{{{{{{{{{{{{{{{{{{{{{{{{{{{{{{{{  THE END   }}}}}}}}}}}}}}}}}}}}}}}}}}}}}}}}}}}}}}}}}}}}"
      ],
      "metadata": {
        "id": "hC-QAto4t3rR"
      }
    }
  ]
}